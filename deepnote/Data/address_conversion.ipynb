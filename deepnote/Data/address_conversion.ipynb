{
  "cells": [
    {
      "cell_type": "code",
      "metadata": {
        "source_hash": "12a28ee7",
        "execution_start": 1744481979389,
        "execution_millis": 0,
        "execution_context_id": "696f5fe3-9668-43f0-aec6-2cddce55812c",
        "cell_id": "3bb227e423fc416d82ad586a14b1549b",
        "deepnote_cell_type": "code"
      },
      "source": "\n\nimport pandas as pd\n\ndef appending_mak_lon_lat(data_frame: pd.DataFrame):\n    #iterates through each dataframe row to get the mak, lon, and lat\n    #and appends them to the dataframe\n    for i in range(len(data_frame)):\n        address_line1 = data_frame['Address'][i]\n        i_mak, i_long, i_lat = get_MAK_long_Lat(address_line1)\n        data_frame['mak'][i] = i_mak\n        data_frame['long'][i] = i_long\n        data_frame['lat'][i] = i_lat\n\ndef get_MAK_long_Lat(address_line1, global_address_obj):\n    #uses melissa api to get mak, long, and lat from address line 1\n    global_address_obj.SetInputParameter(address_line_1, ADDRESS_LINE_1)\n    global_address_obj.SetInputParameter('Irvine', LOCALITY)\n    global_address_obj.SetInputParameter('CA', STATE)\n    global_address_obj.SetInputParameter('USA', COUNTRY)\n    global_address_obj.SetInputParameter('92617', POSTAL_CODE)\n\n    mak = global_address_obj.GetOutputParameter('MAK')\n    lon = global_address_obj.GetOutputParameter('LON')\n    lat = global_address_obj.GetOutputParameter('LAT)\n\n    return mak, long, lat\n",
      "block_group": "3bb227e423fc416d82ad586a14b1549b",
      "execution_count": 1,
      "outputs": [],
      "outputs_reference": null,
      "content_dependencies": null
    },
    {
      "cell_type": "code",
      "metadata": {
        "source_hash": "b1f9b680",
        "execution_start": 1744483464279,
        "execution_millis": 0,
        "execution_context_id": "696f5fe3-9668-43f0-aec6-2cddce55812c",
        "cell_id": "e2d7c06923884d1297667b74980bad3f",
        "deepnote_cell_type": "code"
      },
      "source": "import pandas as pd\nfile_name = 'DatathonUCI_Addresses.csv'",
      "block_group": "d4101e67973244f3bcc967a11140fcee",
      "execution_count": 17,
      "outputs": [],
      "outputs_reference": null,
      "content_dependencies": null
    },
    {
      "cell_type": "code",
      "metadata": {
        "source_hash": "4de2c4ed",
        "execution_start": 1744482152517,
        "execution_millis": 115,
        "execution_context_id": "696f5fe3-9668-43f0-aec6-2cddce55812c",
        "cell_id": "7acb4798292c465e9f025803898e5b97",
        "deepnote_cell_type": "code"
      },
      "source": "",
      "block_group": "06b243f18f5446bdbed29c9a4fdf5d33",
      "execution_count": 15,
      "outputs": [],
      "outputs_reference": null,
      "content_dependencies": null
    },
    {
      "cell_type": "markdown",
      "source": "<a style='text-decoration:none;line-height:16px;display:flex;color:#5B5B62;padding:10px;justify-content:end;' href='https://deepnote.com?utm_source=created-in-deepnote-cell&projectId=79063c31-68e7-42ba-ac09-1fa3948bed4b' target=\"_blank\">\n<img alt='Created in deepnote.com' style='display:inline;max-height:16px;margin:0px;margin-right:7.5px;' src='data:image/svg+xml;base64,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' > </img>\nCreated in <span style='font-weight:600;margin-left:4px;'>Deepnote</span></a>",
      "metadata": {
        "created_in_deepnote_cell": true,
        "deepnote_cell_type": "markdown"
      }
    }
  ],
  "nbformat": 4,
  "nbformat_minor": 0,
  "metadata": {
    "deepnote_persisted_session": {
      "createdAt": "2025-04-12T19:22:31.647Z"
    },
    "deepnote_notebook_id": "fc24689b515b46d39bc077199c2fe1c6"
  }
}