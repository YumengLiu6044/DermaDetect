{
  "cells": [
    {
      "cell_type": "code",
      "metadata": {
        "source_hash": "d0eab636",
        "execution_start": 1744483112192,
        "execution_millis": 1,
        "execution_context_id": "c46520dc-1ed8-457c-ba66-c0290dc766c4",
        "cell_id": "cd0ebde4a3ad4893a762b01c3de22fc6",
        "deepnote_cell_type": "code"
      },
      "source": "import numpy as np\nimport pandas as pd\nimport matplotlib.pyplot as plt\nfrom pathlib import Path\n\nfile_name = 'DatathonUCI_Addresses.csv'",
      "block_group": "cd0ebde4a3ad4893a762b01c3de22fc6",
      "execution_count": 105,
      "outputs": [],
      "outputs_reference": null,
      "content_dependencies": null
    },
    {
      "cell_type": "code",
      "metadata": {
        "source_hash": "4adbf3a8",
        "execution_start": 1744483113441,
        "execution_millis": 283,
        "execution_context_id": "c46520dc-1ed8-457c-ba66-c0290dc766c4",
        "cell_id": "dce368161ae74225a884911ae4a2b0be",
        "deepnote_cell_type": "code"
      },
      "source": "# import file\ndf = pd.read_csv(file_name)",
      "block_group": "3612c2be6cfa46279001a89640aaf89d",
      "execution_count": 107,
      "outputs": [],
      "outputs_reference": null,
      "content_dependencies": null
    },
    {
      "cell_type": "code",
      "metadata": {
        "source_hash": "48178337",
        "execution_start": 1744483113940,
        "execution_millis": 15,
        "execution_context_id": "c46520dc-1ed8-457c-ba66-c0290dc766c4",
        "cell_id": "26acae494a2e4b4b854a235ad62d9552",
        "deepnote_cell_type": "code"
      },
      "source": "def distance(coords1, coords2):\n    lat1, long1 = coords1\n    lat2, long2 = coords2\n    return 3959 * np.arccos(np.sin(lat1) * np.sin(lat2) + np.cos(lat1) * np.cos(lat2) * np.cos(long2-long1))",
      "block_group": "3dfe327fa7d34c6b91b54772a587567b",
      "execution_count": 109,
      "outputs": [],
      "outputs_reference": null,
      "content_dependencies": null
    },
    {
      "cell_type": "code",
      "metadata": {
        "source_hash": "8cd9ead3",
        "execution_start": 1744483114640,
        "execution_millis": 36,
        "execution_context_id": "c46520dc-1ed8-457c-ba66-c0290dc766c4",
        "cell_id": "21145efa5c0647c583c4c4a94a42c811",
        "deepnote_cell_type": "code"
      },
      "source": "# cleaning data\ndf.head()\n",
      "block_group": "a9e52426fd1744178a4f050b04a32db8",
      "execution_count": 111,
      "outputs": [],
      "outputs_reference": null,
      "content_dependencies": null
    },
    {
      "cell_type": "code",
      "metadata": {
        "source_hash": "f3dd26da",
        "execution_start": 1744483116016,
        "execution_millis": 25,
        "execution_context_id": "c46520dc-1ed8-457c-ba66-c0290dc766c4",
        "cell_id": "0dbec18660254bc3a02af0dbc7b90b87",
        "deepnote_cell_type": "code"
      },
      "source": "df.isnull().sum()",
      "block_group": "53cac795e316411f9d78e3d6e4b37973",
      "execution_count": 113,
      "outputs": [],
      "outputs_reference": null,
      "content_dependencies": null
    },
    {
      "cell_type": "code",
      "metadata": {
        "source_hash": "492e0db5",
        "execution_start": 1744482846928,
        "execution_millis": 811,
        "execution_context_id": "c46520dc-1ed8-457c-ba66-c0290dc766c4",
        "cell_id": "452fec3af4fd4a07a9e09d9342a4bd80",
        "deepnote_cell_type": "code"
      },
      "source": "# commands\n\n# !mkdir MelissaUpdater\n# !cd MelissaUpdater\n# !curl -L -O https://releases.melissadata.net/Download/Library/LINUX/NET/ANY/latest/MelissaUpdater\n# !chmod +x MelissaUpdater\n# !cd ..\n\n# not wrapper\n# !sudo /path/to/bc --ini /path/to/ini\n# !git clone https://github.com/MelissaData/GlobalAddressObject-Python3-Wrappers\n# import GlobalAddressObject-Python3-Wrappers.mdGlobalAddr_pythoncode.py\n\n# correct\n# !git clone https://github.com/MelissaData/GlobalAddressObject-Python3-Linux\n# !cd GlobalAddressObject-Python3-Linux",
      "block_group": "4c1fd44d951b4aa4b83ac6be5e0fb95c",
      "execution_count": 99,
      "outputs": [],
      "outputs_reference": null,
      "content_dependencies": null
    },
    {
      "cell_type": "code",
      "metadata": {
        "source_hash": "29a1bdf1",
        "execution_start": 1744484037421,
        "execution_millis": 1979,
        "execution_context_id": "c46520dc-1ed8-457c-ba66-c0290dc766c4",
        "cell_id": "cadb0f8729fd47d78aaba8a2af3cdd8a",
        "deepnote_cell_type": "code"
      },
      "source": "# ignore\n# !/work/GlobalAddressObject-Python3-Linux/\n# !ls /work/GlobalAddressObject-Python3-Linux/\n# !export LD_LIBRARY_PATH=/work/GlobalAddressObject-Python3-Linux:$/work/GlobalAddressObject-Python3-Linux\n# !chmod +rx /work/GlobalAddressObject-Python3-Linux/\n# !cd GlobalAddressObject-Python3-Linux\n\nstdout = !find /datasets/_deepnote_work -name libmdGlobalAddr.so\nprint(stdout)",
      "block_group": "ff2176ff9e6849a7b480792ebd394a50",
      "execution_count": 176,
      "outputs": [],
      "outputs_reference": null,
      "content_dependencies": null
    },
    {
      "cell_type": "code",
      "metadata": {
        "source_hash": "58b30ec6",
        "execution_start": 1744484044808,
        "execution_millis": 317,
        "execution_context_id": "c46520dc-1ed8-457c-ba66-c0290dc766c4",
        "cell_id": "f20e1870db1949ec8401f988db7c7318",
        "deepnote_cell_type": "code"
      },
      "source": "import mdGlobalAddr_pythoncode\nmd_global_address_obj = mdGlobalAddr_pythoncode.mdGlobalAddr()\n\n# nathalie's license\nmd_global_address_obj.SetLicenseString('SqAY0p46HWaLKRB7LS_KpS**nSAcwXpxhQ0PC2lXxuDAZ-**')\nmd_global_address_obj.GetOutputParameter('licenseStringExpirationDate')\n\n# Set data paths for objects\nmd_global_address_obj.SetPathToGlobalAddrFiles('/work/GlobalAddressObject-Python3-Linux')\np_status = md_global_address_obj.InitializeDataFiles()\n\n# Handle potential issues while initializing the data files\nif (p_status != mdGlobalAddr_pythoncode.ProgramStatus.ErrorNone):\n    print(\"Failed to Initialize Object.\")\n    print(p_status)\n    return",
      "block_group": "41b9360ec1504cf5ba883f1ef2df13ab",
      "execution_count": 178,
      "outputs": [],
      "outputs_reference": null,
      "content_dependencies": null
    },
    {
      "cell_type": "code",
      "metadata": {
        "source_hash": "28096ce7",
        "execution_start": 1744483863702,
        "execution_millis": 287,
        "execution_context_id": "c46520dc-1ed8-457c-ba66-c0290dc766c4",
        "cell_id": "3a78df3a01f3402681c7d51c6fd63ff9",
        "deepnote_cell_type": "code"
      },
      "source": "# !git clone https://github.com/MelissaData/GlobalAddressObject-Python3-Linux\nimport sys\nsys.path.append('GlobalAddressObject-Python3-Linux')\nimport mdGlobalAddr_pythoncode",
      "block_group": "5b8bd2d116c2442abd80835cd8a0895f",
      "execution_count": 171,
      "outputs": [],
      "outputs_reference": null,
      "content_dependencies": null
    },
    {
      "cell_type": "code",
      "metadata": {
        "source_hash": "ec15d3a7",
        "execution_start": 1744483985098,
        "execution_millis": 317,
        "execution_context_id": "c46520dc-1ed8-457c-ba66-c0290dc766c4",
        "cell_id": "cf26ea2c0cf749a9b4b0a6cc13833e8c",
        "deepnote_cell_type": "code"
      },
      "source": "",
      "block_group": "ede88065bb3f46b69c3de0fc63831359",
      "execution_count": 173,
      "outputs": [],
      "outputs_reference": null,
      "content_dependencies": null
    },
    {
      "cell_type": "code",
      "metadata": {
        "cell_id": "6a42f212a36442a889b671e9a6f82bda",
        "deepnote_cell_type": "code"
      },
      "source": "",
      "block_group": "6a56de8a0a6e4808bb9436c931d92529",
      "execution_count": null,
      "outputs": [],
      "outputs_reference": null,
      "content_dependencies": null
    },
    {
      "cell_type": "markdown",
      "source": "<a style='text-decoration:none;line-height:16px;display:flex;color:#5B5B62;padding:10px;justify-content:end;' href='https://deepnote.com?utm_source=created-in-deepnote-cell&projectId=79063c31-68e7-42ba-ac09-1fa3948bed4b' target=\"_blank\">\n<img alt='Created in deepnote.com' style='display:inline;max-height:16px;margin:0px;margin-right:7.5px;' src='data:image/svg+xml;base64,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' > </img>\nCreated in <span style='font-weight:600;margin-left:4px;'>Deepnote</span></a>",
      "metadata": {
        "created_in_deepnote_cell": true,
        "deepnote_cell_type": "markdown"
      }
    }
  ],
  "nbformat": 4,
  "nbformat_minor": 0,
  "metadata": {
    "deepnote_notebook_id": "db1f5b27a15a4713baae06353e9cbc4c"
  }
}