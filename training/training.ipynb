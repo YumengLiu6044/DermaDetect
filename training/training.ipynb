{
 "cells": [
  {
   "cell_type": "markdown",
   "source": [
    "## Data Preprocessing"
   ],
   "metadata": {
    "collapsed": false
   },
   "id": "92f17cc4152a8a2b"
  },
  {
   "cell_type": "code",
   "execution_count": 1,
   "id": "initial_id",
   "metadata": {
    "collapsed": true,
    "ExecuteTime": {
     "end_time": "2025-04-15T17:12:46.583538Z",
     "start_time": "2025-04-15T17:12:45.853804Z"
    }
   },
   "outputs": [],
   "source": [
    "import pandas\n",
    "import matplotlib.pyplot as plt"
   ]
  },
  {
   "cell_type": "code",
   "outputs": [
    {
     "name": "stderr",
     "output_type": "stream",
     "text": [
      "/var/folders/8v/3hj81gys6dgdw401b74kwjrr0000gn/T/ipykernel_30565/3460426017.py:1: DtypeWarning: Columns (51,52) have mixed types. Specify dtype option on import or set low_memory=False.\n",
      "  df = pandas.read_csv(\"data/train-metadata.csv\")\n"
     ]
    },
    {
     "data": {
      "text/plain": "        isic_id  target  patient_id  age_approx   sex anatom_site_general  \\\n0  ISIC_0015670       0  IP_1235828        60.0  male     lower extremity   \n1  ISIC_0015845       0  IP_8170065        60.0  male           head/neck   \n2  ISIC_0015864       0  IP_6724798        60.0  male     posterior torso   \n3  ISIC_0015902       0  IP_4111386        65.0  male      anterior torso   \n4  ISIC_0024200       0  IP_8313778        55.0  male      anterior torso   \n\n   clin_size_long_diam_mm          image_type tbp_tile_type   tbp_lv_A  ...  \\\n0                    3.04  TBP tile: close-up     3D: white  20.244422  ...   \n1                    1.10  TBP tile: close-up     3D: white  31.712570  ...   \n2                    3.40  TBP tile: close-up        3D: XP  22.575830  ...   \n3                    3.22  TBP tile: close-up        3D: XP  14.242329  ...   \n4                    2.73  TBP tile: close-up     3D: white  24.725520  ...   \n\n    lesion_id  iddx_full  iddx_1  iddx_2  iddx_3  iddx_4  iddx_5  \\\n0         NaN     Benign  Benign     NaN     NaN     NaN     NaN   \n1  IL_6727506     Benign  Benign     NaN     NaN     NaN     NaN   \n2         NaN     Benign  Benign     NaN     NaN     NaN     NaN   \n3         NaN     Benign  Benign     NaN     NaN     NaN     NaN   \n4         NaN     Benign  Benign     NaN     NaN     NaN     NaN   \n\n   mel_mitotic_index  mel_thick_mm  tbp_lv_dnn_lesion_confidence  \n0                NaN           NaN                     97.517282  \n1                NaN           NaN                      3.141455  \n2                NaN           NaN                     99.804040  \n3                NaN           NaN                     99.989998  \n4                NaN           NaN                     70.442510  \n\n[5 rows x 55 columns]",
      "text/html": "<div>\n<style scoped>\n    .dataframe tbody tr th:only-of-type {\n        vertical-align: middle;\n    }\n\n    .dataframe tbody tr th {\n        vertical-align: top;\n    }\n\n    .dataframe thead th {\n        text-align: right;\n    }\n</style>\n<table border=\"1\" class=\"dataframe\">\n  <thead>\n    <tr style=\"text-align: right;\">\n      <th></th>\n      <th>isic_id</th>\n      <th>target</th>\n      <th>patient_id</th>\n      <th>age_approx</th>\n      <th>sex</th>\n      <th>anatom_site_general</th>\n      <th>clin_size_long_diam_mm</th>\n      <th>image_type</th>\n      <th>tbp_tile_type</th>\n      <th>tbp_lv_A</th>\n      <th>...</th>\n      <th>lesion_id</th>\n      <th>iddx_full</th>\n      <th>iddx_1</th>\n      <th>iddx_2</th>\n      <th>iddx_3</th>\n      <th>iddx_4</th>\n      <th>iddx_5</th>\n      <th>mel_mitotic_index</th>\n      <th>mel_thick_mm</th>\n      <th>tbp_lv_dnn_lesion_confidence</th>\n    </tr>\n  </thead>\n  <tbody>\n    <tr>\n      <th>0</th>\n      <td>ISIC_0015670</td>\n      <td>0</td>\n      <td>IP_1235828</td>\n      <td>60.0</td>\n      <td>male</td>\n      <td>lower extremity</td>\n      <td>3.04</td>\n      <td>TBP tile: close-up</td>\n      <td>3D: white</td>\n      <td>20.244422</td>\n      <td>...</td>\n      <td>NaN</td>\n      <td>Benign</td>\n      <td>Benign</td>\n      <td>NaN</td>\n      <td>NaN</td>\n      <td>NaN</td>\n      <td>NaN</td>\n      <td>NaN</td>\n      <td>NaN</td>\n      <td>97.517282</td>\n    </tr>\n    <tr>\n      <th>1</th>\n      <td>ISIC_0015845</td>\n      <td>0</td>\n      <td>IP_8170065</td>\n      <td>60.0</td>\n      <td>male</td>\n      <td>head/neck</td>\n      <td>1.10</td>\n      <td>TBP tile: close-up</td>\n      <td>3D: white</td>\n      <td>31.712570</td>\n      <td>...</td>\n      <td>IL_6727506</td>\n      <td>Benign</td>\n      <td>Benign</td>\n      <td>NaN</td>\n      <td>NaN</td>\n      <td>NaN</td>\n      <td>NaN</td>\n      <td>NaN</td>\n      <td>NaN</td>\n      <td>3.141455</td>\n    </tr>\n    <tr>\n      <th>2</th>\n      <td>ISIC_0015864</td>\n      <td>0</td>\n      <td>IP_6724798</td>\n      <td>60.0</td>\n      <td>male</td>\n      <td>posterior torso</td>\n      <td>3.40</td>\n      <td>TBP tile: close-up</td>\n      <td>3D: XP</td>\n      <td>22.575830</td>\n      <td>...</td>\n      <td>NaN</td>\n      <td>Benign</td>\n      <td>Benign</td>\n      <td>NaN</td>\n      <td>NaN</td>\n      <td>NaN</td>\n      <td>NaN</td>\n      <td>NaN</td>\n      <td>NaN</td>\n      <td>99.804040</td>\n    </tr>\n    <tr>\n      <th>3</th>\n      <td>ISIC_0015902</td>\n      <td>0</td>\n      <td>IP_4111386</td>\n      <td>65.0</td>\n      <td>male</td>\n      <td>anterior torso</td>\n      <td>3.22</td>\n      <td>TBP tile: close-up</td>\n      <td>3D: XP</td>\n      <td>14.242329</td>\n      <td>...</td>\n      <td>NaN</td>\n      <td>Benign</td>\n      <td>Benign</td>\n      <td>NaN</td>\n      <td>NaN</td>\n      <td>NaN</td>\n      <td>NaN</td>\n      <td>NaN</td>\n      <td>NaN</td>\n      <td>99.989998</td>\n    </tr>\n    <tr>\n      <th>4</th>\n      <td>ISIC_0024200</td>\n      <td>0</td>\n      <td>IP_8313778</td>\n      <td>55.0</td>\n      <td>male</td>\n      <td>anterior torso</td>\n      <td>2.73</td>\n      <td>TBP tile: close-up</td>\n      <td>3D: white</td>\n      <td>24.725520</td>\n      <td>...</td>\n      <td>NaN</td>\n      <td>Benign</td>\n      <td>Benign</td>\n      <td>NaN</td>\n      <td>NaN</td>\n      <td>NaN</td>\n      <td>NaN</td>\n      <td>NaN</td>\n      <td>NaN</td>\n      <td>70.442510</td>\n    </tr>\n  </tbody>\n</table>\n<p>5 rows × 55 columns</p>\n</div>"
     },
     "execution_count": 2,
     "metadata": {},
     "output_type": "execute_result"
    }
   ],
   "source": [
    "df = pandas.read_csv(\"data/train-metadata.csv\")\n",
    "df.head()"
   ],
   "metadata": {
    "collapsed": false,
    "ExecuteTime": {
     "end_time": "2025-04-15T17:12:48.477538Z",
     "start_time": "2025-04-15T17:12:46.584923Z"
    }
   },
   "id": "46fb186224b2a120",
   "execution_count": 2
  },
  {
   "cell_type": "code",
   "outputs": [
    {
     "data": {
      "text/plain": "target\n0    400666\n1       393\nName: count, dtype: int64"
     },
     "execution_count": 3,
     "metadata": {},
     "output_type": "execute_result"
    }
   ],
   "source": [
    "df[\"target\"].value_counts()"
   ],
   "metadata": {
    "collapsed": false,
    "ExecuteTime": {
     "end_time": "2025-04-15T17:12:48.483481Z",
     "start_time": "2025-04-15T17:12:48.478147Z"
    }
   },
   "id": "a2f7f6f01bfc354d",
   "execution_count": 3
  },
  {
   "cell_type": "code",
   "outputs": [
    {
     "data": {
      "text/plain": "(393, 55)"
     },
     "execution_count": 4,
     "metadata": {},
     "output_type": "execute_result"
    }
   ],
   "source": [
    "malignant = df[df[\"target\"] == 1]\n",
    "malignant.shape"
   ],
   "metadata": {
    "collapsed": false,
    "ExecuteTime": {
     "end_time": "2025-04-15T17:12:48.494976Z",
     "start_time": "2025-04-15T17:12:48.484874Z"
    }
   },
   "id": "d7d6b6479c2affe3",
   "execution_count": 4
  },
  {
   "cell_type": "code",
   "outputs": [
    {
     "data": {
      "text/plain": "(400666, 55)"
     },
     "execution_count": 5,
     "metadata": {},
     "output_type": "execute_result"
    }
   ],
   "source": [
    "benign = df[df[\"target\"] == 0]\n",
    "benign.shape"
   ],
   "metadata": {
    "collapsed": false,
    "ExecuteTime": {
     "end_time": "2025-04-15T17:12:48.550729Z",
     "start_time": "2025-04-15T17:12:48.495481Z"
    }
   },
   "id": "d463d30b3da65c1c",
   "execution_count": 5
  },
  {
   "cell_type": "code",
   "outputs": [
    {
     "data": {
      "text/plain": "(5000, 55)"
     },
     "execution_count": 6,
     "metadata": {},
     "output_type": "execute_result"
    }
   ],
   "source": [
    "SEED = 1234\n",
    "BENIGN_SIZE = 5000 # Limits benign samples for data balancing\n",
    "benign_limited = benign.sample(BENIGN_SIZE)\n",
    "benign_limited.shape"
   ],
   "metadata": {
    "collapsed": false,
    "ExecuteTime": {
     "end_time": "2025-04-15T17:12:48.565457Z",
     "start_time": "2025-04-15T17:12:48.551540Z"
    }
   },
   "id": "8c5e6d3bddd596f0",
   "execution_count": 6
  },
  {
   "cell_type": "code",
   "outputs": [
    {
     "data": {
      "text/plain": "(5393, 55)"
     },
     "execution_count": 7,
     "metadata": {},
     "output_type": "execute_result"
    }
   ],
   "source": [
    "merged_balanced = pandas.concat([benign_limited, malignant])\n",
    "merged_balanced.shape"
   ],
   "metadata": {
    "collapsed": false,
    "ExecuteTime": {
     "end_time": "2025-04-15T17:12:48.570452Z",
     "start_time": "2025-04-15T17:12:48.566214Z"
    }
   },
   "id": "2d500268e344eb72",
   "execution_count": 7
  },
  {
   "cell_type": "code",
   "outputs": [
    {
     "data": {
      "text/plain": "<Figure size 640x480 with 1 Axes>",
      "image/png": "[encoded data removed]"
     },
     "metadata": {},
     "output_type": "display_data"
    }
   ],
   "source": [
    "plt.hist(merged_balanced[\"target\"])\n",
    "plt.title(\"Target Label Distribution After Balancing\")\n",
    "plt.show()"
   ],
   "metadata": {
    "collapsed": false,
    "ExecuteTime": {
     "end_time": "2025-04-15T17:12:48.633962Z",
     "start_time": "2025-04-15T17:12:48.571101Z"
    }
   },
   "id": "da1446c77ae6bb6d",
   "execution_count": 8
  },
  {
   "cell_type": "markdown",
   "source": [
    "## Data Augmentation"
   ],
   "metadata": {
    "collapsed": false
   },
   "id": "113352d423e817e5"
  },
  {
   "cell_type": "code",
   "outputs": [],
   "source": [
    "import cv2\n",
    "from tqdm import tqdm\n",
    "\n",
    "def adjust_brightness_contrast(input_path: str, output_path: str):\n",
    "    if input_path == output_path:\n",
    "        raise ValueError(\"output path overwrites input path\")\n",
    "    \n",
    "    try:\n",
    "        img = cv2.imread(input_path)\n",
    "\n",
    "        if img is None:\n",
    "            raise ValueError(\"Failed to load image. Check the input path.\")\n",
    "\n",
    "        lab = cv2.cvtColor(img, cv2.COLOR_BGR2LAB)\n",
    "        l_channel, a, b = cv2.split(lab)\n",
    "        clahe = cv2.createCLAHE(clipLimit=2.0, tileGridSize=(8, 8))\n",
    "        cl = clahe.apply(l_channel)\n",
    "\n",
    "        limg = cv2.merge((cl, a, b))\n",
    "\n",
    "        enhanced_img = cv2.cvtColor(limg, cv2.COLOR_LAB2BGR)\n",
    "\n",
    "        cv2.imwrite(output_path, enhanced_img)\n",
    "\n",
    "    except Exception as e:\n",
    "        print(f\"Error adjusting brightness/contrast: {e}\")\n",
    "\n",
    "\n",
    "def flip_image(input_path: str, output_path: str, mode: str = 'horizontal'):\n",
    "    if input_path == output_path:\n",
    "        raise ValueError(\"output path overwrites input path\")\n",
    "    \n",
    "    try:\n",
    "        image = cv2.imread(input_path)\n",
    "        if image is None:\n",
    "            raise ValueError(\"Could not load image. Check the input path.\")\n",
    "\n",
    "        flip_codes = {\n",
    "            'horizontal': 1,\n",
    "            'vertical': 0,\n",
    "            'both': -1\n",
    "        }\n",
    "\n",
    "        if mode not in flip_codes:\n",
    "            raise ValueError(\"Invalid flip mode. Choose from 'horizontal', 'vertical', or 'both'.\")\n",
    "\n",
    "        flipped = cv2.flip(image, flip_codes[mode])\n",
    "        cv2.imwrite(output_path, flipped)\n",
    "\n",
    "    except Exception as e:\n",
    "        print(f\"Error flipping image: {e}\")\n"
   ],
   "metadata": {
    "collapsed": false,
    "ExecuteTime": {
     "end_time": "2025-04-15T17:12:48.784827Z",
     "start_time": "2025-04-15T17:12:48.634675Z"
    }
   },
   "id": "f4e6c6569ae11885",
   "execution_count": 9
  },
  {
   "cell_type": "code",
   "outputs": [
    {
     "name": "stderr",
     "output_type": "stream",
     "text": [
      "Transforming images: 100%|██████████| 393/393 [00:00<00:00, 1115.11it/s]\n"
     ]
    },
    {
     "data": {
      "text/plain": "(5786, 56)"
     },
     "execution_count": 10,
     "metadata": {},
     "output_type": "execute_result"
    }
   ],
   "source": [
    "path_format = \"data/train-image/image/{}.jpg\"\n",
    "\n",
    "transformed_rows = []\n",
    "\n",
    "for _, row in tqdm(malignant.iterrows(), total=len(malignant), desc=\"Transforming images\"):\n",
    "    og_src = row[\"isic_id\"]\n",
    "    contrasted_output_name = og_src + \"_contrasted\"\n",
    "    flipped_output_name = og_src + \"_flipped\"\n",
    "    \n",
    "    input_path = path_format.format(og_src)\n",
    "    contrasted_output_path = path_format.format(contrasted_output_name)\n",
    "    flipped_output_path = path_format.format(flipped_output_name)\n",
    "    \n",
    "    adjust_brightness_contrast(input_path, contrasted_output_path)\n",
    "    # flip_image(input_path, flipped_output_path)\n",
    "    \n",
    "    row_copy = row.copy()\n",
    "    row_copy[\"isic_id\"] = contrasted_output_name\n",
    "    transformed_rows.append(row_copy.to_dict())    \n",
    "    # \n",
    "    # row_copy = row.copy()\n",
    "    # row_copy[\"isic_id\"] = flipped_output_name\n",
    "    # transformed_rows.append(row_copy.to_dict())\n",
    "    \n",
    "\n",
    "transformed_df = pandas.DataFrame(transformed_rows)\n",
    "merged_balanced_augmented = pandas.concat([transformed_df, merged_balanced])\n",
    "merged_balanced_augmented[\"image_path\"] = [path_format.format(row[\"isic_id\"]) for (_, row) in merged_balanced_augmented.iterrows()]\n",
    "merged_balanced[\"image_path\"] = [path_format.format(row[\"isic_id\"]) for (_, row) in merged_balanced.iterrows()]\n",
    "merged_balanced_augmented.shape\n",
    "    "
   ],
   "metadata": {
    "collapsed": false,
    "ExecuteTime": {
     "end_time": "2025-04-15T17:12:49.298857Z",
     "start_time": "2025-04-15T17:12:48.786478Z"
    }
   },
   "id": "5803cffc1e0c934e",
   "execution_count": 10
  },
  {
   "cell_type": "code",
   "outputs": [
    {
     "data": {
      "text/plain": "<Figure size 640x480 with 2 Axes>",
      "image/png": "[encoded data removed]"
     },
     "metadata": {},
     "output_type": "display_data"
    }
   ],
   "source": [
    "fig, axes = plt.subplots(1, 2, )\n",
    "axes[0].hist(merged_balanced[\"target\"])\n",
    "axes[0].set_title(\"Before Augmentation\")\n",
    "axes[1].hist(merged_balanced_augmented[\"target\"])\n",
    "axes[1].set_title(\"After Augmentation\")\n",
    "fig.tight_layout()"
   ],
   "metadata": {
    "collapsed": false,
    "ExecuteTime": {
     "end_time": "2025-04-15T17:12:49.385276Z",
     "start_time": "2025-04-15T17:12:49.299463Z"
    }
   },
   "id": "89503d08b14ee589",
   "execution_count": 11
  },
  {
   "cell_type": "markdown",
   "source": [
    "## Training"
   ],
   "metadata": {
    "collapsed": false
   },
   "id": "e38c9534be7f10f9"
  },
  {
   "cell_type": "code",
   "outputs": [
    {
     "data": {
      "text/plain": "             isic_id  target  patient_id  age_approx     sex  \\\n181954  ISIC_4584040       0  IP_7797815        75.0    male   \n23382   ISIC_0646370       0  IP_4013104        50.0  female   \n128009  ISIC_3245056       0  IP_5961877        75.0    male   \n199929  ISIC_5029839       0  IP_7797815        75.0    male   \n311439  ISIC_7785960       0  IP_6630831        45.0    male   \n\n       anatom_site_general  clin_size_long_diam_mm          image_type  \\\n181954      anterior torso                    2.54  TBP tile: close-up   \n23382      lower extremity                    3.01  TBP tile: close-up   \n128009     lower extremity                    3.95  TBP tile: close-up   \n199929     lower extremity                    2.68  TBP tile: close-up   \n311439      anterior torso                    3.61  TBP tile: close-up   \n\n       tbp_tile_type   tbp_lv_A  ...  iddx_full  iddx_1  iddx_2  iddx_3  \\\n181954     3D: white  17.951320  ...     Benign  Benign     NaN     NaN   \n23382      3D: white  22.925102  ...     Benign  Benign     NaN     NaN   \n128009        3D: XP  13.061090  ...     Benign  Benign     NaN     NaN   \n199929     3D: white  16.353590  ...     Benign  Benign     NaN     NaN   \n311439     3D: white  16.801760  ...     Benign  Benign     NaN     NaN   \n\n        iddx_4  iddx_5  mel_mitotic_index  mel_thick_mm  \\\n181954     NaN     NaN                NaN           NaN   \n23382      NaN     NaN                NaN           NaN   \n128009     NaN     NaN                NaN           NaN   \n199929     NaN     NaN                NaN           NaN   \n311439     NaN     NaN                NaN           NaN   \n\n        tbp_lv_dnn_lesion_confidence                               image_path  \n181954                      99.89873  data/train-image/image/ISIC_4584040.jpg  \n23382                      100.00000  data/train-image/image/ISIC_0646370.jpg  \n128009                      99.44913  data/train-image/image/ISIC_3245056.jpg  \n199929                      92.75535  data/train-image/image/ISIC_5029839.jpg  \n311439                      94.51600  data/train-image/image/ISIC_7785960.jpg  \n\n[5 rows x 56 columns]",
      "text/html": "<div>\n<style scoped>\n    .dataframe tbody tr th:only-of-type {\n        vertical-align: middle;\n    }\n\n    .dataframe tbody tr th {\n        vertical-align: top;\n    }\n\n    .dataframe thead th {\n        text-align: right;\n    }\n</style>\n<table border=\"1\" class=\"dataframe\">\n  <thead>\n    <tr style=\"text-align: right;\">\n      <th></th>\n      <th>isic_id</th>\n      <th>target</th>\n      <th>patient_id</th>\n      <th>age_approx</th>\n      <th>sex</th>\n      <th>anatom_site_general</th>\n      <th>clin_size_long_diam_mm</th>\n      <th>image_type</th>\n      <th>tbp_tile_type</th>\n      <th>tbp_lv_A</th>\n      <th>...</th>\n      <th>iddx_full</th>\n      <th>iddx_1</th>\n      <th>iddx_2</th>\n      <th>iddx_3</th>\n      <th>iddx_4</th>\n      <th>iddx_5</th>\n      <th>mel_mitotic_index</th>\n      <th>mel_thick_mm</th>\n      <th>tbp_lv_dnn_lesion_confidence</th>\n      <th>image_path</th>\n    </tr>\n  </thead>\n  <tbody>\n    <tr>\n      <th>181954</th>\n      <td>ISIC_4584040</td>\n      <td>0</td>\n      <td>IP_7797815</td>\n      <td>75.0</td>\n      <td>male</td>\n      <td>anterior torso</td>\n      <td>2.54</td>\n      <td>TBP tile: close-up</td>\n      <td>3D: white</td>\n      <td>17.951320</td>\n      <td>...</td>\n      <td>Benign</td>\n      <td>Benign</td>\n      <td>NaN</td>\n      <td>NaN</td>\n      <td>NaN</td>\n      <td>NaN</td>\n      <td>NaN</td>\n      <td>NaN</td>\n      <td>99.89873</td>\n      <td>data/train-image/image/ISIC_4584040.jpg</td>\n    </tr>\n    <tr>\n      <th>23382</th>\n      <td>ISIC_0646370</td>\n      <td>0</td>\n      <td>IP_4013104</td>\n      <td>50.0</td>\n      <td>female</td>\n      <td>lower extremity</td>\n      <td>3.01</td>\n      <td>TBP tile: close-up</td>\n      <td>3D: white</td>\n      <td>22.925102</td>\n      <td>...</td>\n      <td>Benign</td>\n      <td>Benign</td>\n      <td>NaN</td>\n      <td>NaN</td>\n      <td>NaN</td>\n      <td>NaN</td>\n      <td>NaN</td>\n      <td>NaN</td>\n      <td>100.00000</td>\n      <td>data/train-image/image/ISIC_0646370.jpg</td>\n    </tr>\n    <tr>\n      <th>128009</th>\n      <td>ISIC_3245056</td>\n      <td>0</td>\n      <td>IP_5961877</td>\n      <td>75.0</td>\n      <td>male</td>\n      <td>lower extremity</td>\n      <td>3.95</td>\n      <td>TBP tile: close-up</td>\n      <td>3D: XP</td>\n      <td>13.061090</td>\n      <td>...</td>\n      <td>Benign</td>\n      <td>Benign</td>\n      <td>NaN</td>\n      <td>NaN</td>\n      <td>NaN</td>\n      <td>NaN</td>\n      <td>NaN</td>\n      <td>NaN</td>\n      <td>99.44913</td>\n      <td>data/train-image/image/ISIC_3245056.jpg</td>\n    </tr>\n    <tr>\n      <th>199929</th>\n      <td>ISIC_5029839</td>\n      <td>0</td>\n      <td>IP_7797815</td>\n      <td>75.0</td>\n      <td>male</td>\n      <td>lower extremity</td>\n      <td>2.68</td>\n      <td>TBP tile: close-up</td>\n      <td>3D: white</td>\n      <td>16.353590</td>\n      <td>...</td>\n      <td>Benign</td>\n      <td>Benign</td>\n      <td>NaN</td>\n      <td>NaN</td>\n      <td>NaN</td>\n      <td>NaN</td>\n      <td>NaN</td>\n      <td>NaN</td>\n      <td>92.75535</td>\n      <td>data/train-image/image/ISIC_5029839.jpg</td>\n    </tr>\n    <tr>\n      <th>311439</th>\n      <td>ISIC_7785960</td>\n      <td>0</td>\n      <td>IP_6630831</td>\n      <td>45.0</td>\n      <td>male</td>\n      <td>anterior torso</td>\n      <td>3.61</td>\n      <td>TBP tile: close-up</td>\n      <td>3D: white</td>\n      <td>16.801760</td>\n      <td>...</td>\n      <td>Benign</td>\n      <td>Benign</td>\n      <td>NaN</td>\n      <td>NaN</td>\n      <td>NaN</td>\n      <td>NaN</td>\n      <td>NaN</td>\n      <td>NaN</td>\n      <td>94.51600</td>\n      <td>data/train-image/image/ISIC_7785960.jpg</td>\n    </tr>\n  </tbody>\n</table>\n<p>5 rows × 56 columns</p>\n</div>"
     },
     "execution_count": 12,
     "metadata": {},
     "output_type": "execute_result"
    }
   ],
   "source": [
    "import random\n",
    "random.seed(SEED)\n",
    "\n",
    "test_ratio = 0.2\n",
    "\n",
    "def train_test_split(df, test_size=0.2, random_state=None):\n",
    "    test_df = df.sample(frac=test_size, random_state=random_state)\n",
    "    train_df = df.drop(test_df.index)\n",
    "    return train_df, test_df\n",
    "\n",
    "train_df, test_df = train_test_split(merged_balanced, test_size=test_ratio, random_state=SEED)\n",
    "train_df.head()"
   ],
   "metadata": {
    "collapsed": false,
    "ExecuteTime": {
     "end_time": "2025-04-15T17:12:49.396218Z",
     "start_time": "2025-04-15T17:12:49.386043Z"
    }
   },
   "id": "f66815730952fb66",
   "execution_count": 12
  },
  {
   "cell_type": "code",
   "outputs": [
    {
     "data": {
      "text/plain": "<torch._C.Generator at 0x147904090>"
     },
     "execution_count": 13,
     "metadata": {},
     "output_type": "execute_result"
    }
   ],
   "source": [
    "import torch\n",
    "import torch.nn as nn\n",
    "import torch.nn.functional as F\n",
    "from torch.utils.data import Dataset, DataLoader\n",
    "from torchvision import transforms\n",
    "from PIL import Image\n",
    "import os\n",
    "\n",
    "torch.manual_seed(SEED)"
   ],
   "metadata": {
    "collapsed": false,
    "ExecuteTime": {
     "end_time": "2025-04-15T17:12:51.319026Z",
     "start_time": "2025-04-15T17:12:49.396955Z"
    }
   },
   "id": "a940ad6acb3ba502",
   "execution_count": 13
  },
  {
   "cell_type": "code",
   "outputs": [],
   "source": [
    "class ImageDataset(Dataset):\n",
    "    def __init__(self, image_paths, labels, transform=None):\n",
    "        \n",
    "        if len(image_paths) != len(labels):\n",
    "            raise ValueError(f\"Value mismatch between images ({len(image_paths)}) and labels ({len(labels)})\")\n",
    "        \n",
    "        self.image_paths = image_paths\n",
    "        self.labels = labels\n",
    "        self.transform = transform or transforms.Compose([\n",
    "            transforms.Resize((64, 64)),\n",
    "            transforms.ToTensor(),\n",
    "        ])\n",
    "\n",
    "    def __len__(self):\n",
    "        return len(self.image_paths)\n",
    "\n",
    "    def __getitem__(self, idx):\n",
    "        img_path = self.image_paths[idx]\n",
    "        label = float(self.labels[idx])\n",
    "        image = Image.open(img_path).convert(\"RGB\")\n",
    "        if self.transform:\n",
    "            image = self.transform(image)\n",
    "        return image, torch.tensor(label, dtype=torch.float32)\n",
    "\n",
    "train_dataset = ImageDataset(train_df[\"image_path\"].to_list(), train_df[\"target\"].to_list())\n",
    "test_dataset = ImageDataset(test_df[\"image_path\"].to_list(), test_df[\"target\"].to_list())\n",
    "\n",
    "train_loader = DataLoader(train_dataset, batch_size=32, shuffle=True)\n",
    "test_loader = DataLoader(test_dataset, batch_size=32, shuffle=False)\n"
   ],
   "metadata": {
    "collapsed": false,
    "ExecuteTime": {
     "end_time": "2025-04-15T17:12:51.323193Z",
     "start_time": "2025-04-15T17:12:51.319662Z"
    }
   },
   "id": "64a39e73dc32d5ba",
   "execution_count": 14
  },
  {
   "cell_type": "code",
   "outputs": [],
   "source": [
    "class BinaryCNN(nn.Module):\n",
    "    def __init__(self):\n",
    "        super(BinaryCNN, self).__init__()\n",
    "        self.conv_layers = nn.Sequential(\n",
    "            nn.Conv2d(3, 16, kernel_size=5, padding=2),\n",
    "            nn.ReLU(),\n",
    "            nn.MaxPool2d(2),  # (16, 32, 32)\n",
    "\n",
    "            nn.Conv2d(16, 32, kernel_size=5, padding=2),\n",
    "            nn.ReLU(),\n",
    "            nn.MaxPool2d(2),  # (32, 16, 16)\n",
    "            # \n",
    "            # nn.Conv2d(32, 64, kernel_size=3, padding=1),\n",
    "            # nn.ReLU(),\n",
    "            # nn.MaxPool2d(2),  # (64, 8, 8)\n",
    "            # \n",
    "            # nn.Conv2d(64, 128, kernel_size=3, padding=1),\n",
    "            # nn.ReLU(),\n",
    "            # nn.MaxPool2d(2),  # (128, 4, 4)\n",
    "        )\n",
    "        self.fc = nn.Sequential(\n",
    "            nn.Flatten(),\n",
    "            nn.Linear(32 * 16 * 16, 128),  # 2048 → 128\n",
    "            nn.ReLU(),\n",
    "            nn.Dropout(0.2),\n",
    "            nn.Linear(128, 1),\n",
    "            nn.Sigmoid()\n",
    "        )\n",
    "\n",
    "    def forward(self, x):\n",
    "        x = self.conv_layers(x)\n",
    "        x = self.fc(x)\n",
    "        return x.squeeze()\n"
   ],
   "metadata": {
    "collapsed": false,
    "ExecuteTime": {
     "end_time": "2025-04-15T17:12:51.325800Z",
     "start_time": "2025-04-15T17:12:51.323674Z"
    }
   },
   "id": "d54562f56f33aa5d",
   "execution_count": 15
  },
  {
   "cell_type": "code",
   "outputs": [
    {
     "name": "stdout",
     "output_type": "stream",
     "text": [
      "EPOCH: 0\tEval Loss: 0.2480\tTrain Loss: 0.2761\n",
      "EPOCH: 1\tEval Loss: 0.2462\tTrain Loss: 0.2680\n",
      "EPOCH: 2\tEval Loss: 0.2472\tTrain Loss: 0.2620\n",
      "EPOCH: 3\tEval Loss: 0.2347\tTrain Loss: 0.2483\n",
      "EPOCH: 4\tEval Loss: 0.1909\tTrain Loss: 0.2322\n",
      "EPOCH: 5\tEval Loss: 0.1856\tTrain Loss: 0.2217\n",
      "EPOCH: 6\tEval Loss: 0.1834\tTrain Loss: 0.2179\n",
      "EPOCH: 7\tEval Loss: 0.1708\tTrain Loss: 0.2071\n",
      "EPOCH: 8\tEval Loss: 0.1815\tTrain Loss: 0.2023\n",
      "EPOCH: 9\tEval Loss: 0.1743\tTrain Loss: 0.2076\n",
      "EPOCH: 10\tEval Loss: 0.1831\tTrain Loss: 0.2033\n",
      "EPOCH: 11\tEval Loss: 0.1659\tTrain Loss: 0.2058\n",
      "EPOCH: 12\tEval Loss: 0.1744\tTrain Loss: 0.1934\n",
      "EPOCH: 13\tEval Loss: 0.1635\tTrain Loss: 0.2014\n",
      "EPOCH: 14\tEval Loss: 0.1678\tTrain Loss: 0.1910\n"
     ]
    }
   ],
   "source": [
    "EPOCH = 15\n",
    "\n",
    "# Model, Loss, Optimizer\n",
    "device = torch.device('cuda' if torch.cuda.is_available() else 'cpu')\n",
    "model = BinaryCNN().to(device)\n",
    "criterion = nn.BCELoss()\n",
    "optimizer = torch.optim.Adam(model.parameters(), lr=0.001)\n",
    "\n",
    "# best weights\n",
    "best_weights = None\n",
    "best_eval_loss = 1\n",
    "\n",
    "for epoch in range(EPOCH):\n",
    "    model.train()\n",
    "    train_loss = 0\n",
    "    train_total = 0\n",
    "    \n",
    "    for images, labels in train_loader:\n",
    "        images, labels = images.to(device), labels.to(device)\n",
    "        outputs = model(images)\n",
    "        loss = criterion(outputs, labels)\n",
    "\n",
    "        optimizer.zero_grad()\n",
    "        loss.backward()\n",
    "        optimizer.step()\n",
    "        \n",
    "        batch_size = images.size(0)\n",
    "        train_loss += loss.item() * batch_size\n",
    "        train_total += batch_size\n",
    "\n",
    "    model.eval()\n",
    "    eval_loss = 0\n",
    "    eval_total = 0\n",
    "    with torch.no_grad():\n",
    "        for images, labels in test_loader:\n",
    "            images, labels = images.to(device), labels.to(device)\n",
    "            outputs = model(images)\n",
    "            loss = criterion(outputs, labels)\n",
    "\n",
    "            batch_size = images.size(0)\n",
    "            eval_loss += loss.item() * batch_size\n",
    "            eval_total += batch_size\n",
    "\n",
    "    avg_train_loss = train_loss / train_total\n",
    "    avg_eval_loss = eval_loss / eval_total\n",
    "    \n",
    "    if avg_train_loss < best_eval_loss:\n",
    "        best_weights = model.state_dict()\n",
    "        best_eval_loss = avg_eval_loss\n",
    "\n",
    "    print(f\"EPOCH: {epoch}\\tEval Loss: {avg_eval_loss:.4f}\\tTrain Loss: {avg_train_loss:.4f}\")\n"
   ],
   "metadata": {
    "collapsed": false,
    "ExecuteTime": {
     "end_time": "2025-04-15T17:14:58.745565Z",
     "start_time": "2025-04-15T17:12:51.326292Z"
    }
   },
   "id": "507fed2fff2cb7d5",
   "execution_count": 16
  },
  {
   "cell_type": "code",
   "outputs": [
    {
     "data": {
      "text/plain": "0.9443929564411492"
     },
     "execution_count": 17,
     "metadata": {},
     "output_type": "execute_result"
    }
   ],
   "source": [
    "model.load_state_dict(best_weights)\n",
    "\n",
    "def calculate_accuracy(outputs, labels):\n",
    "    outputs = [1 if i >= 0.5 else 0 for i in outputs]\n",
    "    total_match = sum(i == j for i, j in zip(outputs, labels))\n",
    "    return total_match / len(outputs)\n",
    "\n",
    "total_outputs = []\n",
    "total_labels = []\n",
    " \n",
    "with torch.no_grad():\n",
    "    for images, labels in test_loader:\n",
    "        images, labels = images.to(device), labels.to(device)\n",
    "        outputs = model(images)\n",
    "        total_outputs.extend(outputs.tolist())\n",
    "        total_labels.extend(labels.tolist())\n",
    "\n",
    "calculate_accuracy(total_outputs, total_labels) \n",
    "# Non augmented data is 0.94\n",
    "# Augmented with contrasting: 0.8875404530744336\n",
    "# Augmented with flipping: 0.916162489196197"
   ],
   "metadata": {
    "collapsed": false,
    "ExecuteTime": {
     "end_time": "2025-04-15T17:14:59.489828Z",
     "start_time": "2025-04-15T17:14:58.746726Z"
    }
   },
   "id": "946d9ccfceaba821",
   "execution_count": 17
  },
  {
   "cell_type": "markdown",
   "source": [
    "## Saving Model"
   ],
   "metadata": {
    "collapsed": false
   },
   "id": "b044bd2305b2deaf"
  },
  {
   "cell_type": "code",
   "outputs": [
    {
     "name": "stdout",
     "output_type": "stream",
     "text": [
      "File save successful: True\n"
     ]
    }
   ],
   "source": [
    "save_path = \"../backend/cnn_weights.pth\"\n",
    "torch.save(best_weights, save_path)\n",
    "print(f\"File save successful: {os.path.exists(save_path)}\")"
   ],
   "metadata": {
    "collapsed": false,
    "ExecuteTime": {
     "end_time": "2025-04-15T17:16:17.114154Z",
     "start_time": "2025-04-15T17:16:17.096108Z"
    }
   },
   "id": "4167503f91befa4e",
   "execution_count": 19
  },
  {
   "cell_type": "code",
   "outputs": [],
   "source": [],
   "metadata": {
    "collapsed": false,
    "ExecuteTime": {
     "end_time": "2025-04-15T17:14:59.503039Z",
     "start_time": "2025-04-15T17:14:59.501473Z"
    }
   },
   "id": "3df60c2e4b377970",
   "execution_count": 18
  }
 ],
 "metadata": {
  "kernelspec": {
   "display_name": "Python 3",
   "language": "python",
   "name": "python3"
  },
  "language_info": {
   "codemirror_mode": {
    "name": "ipython",
    "version": 2
   },
   "file_extension": ".py",
   "mimetype": "text/x-python",
   "name": "python",
   "nbconvert_exporter": "python",
   "pygments_lexer": "ipython2",
   "version": "2.7.6"
  }
 },
 "nbformat": 4,
 "nbformat_minor": 5
}
