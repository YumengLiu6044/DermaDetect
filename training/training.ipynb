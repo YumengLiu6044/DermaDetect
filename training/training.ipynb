{
 "cells": [
  {
   "cell_type": "markdown",
   "source": [
    "## Data Preprocessing"
   ],
   "metadata": {
    "collapsed": false
   },
   "id": "92f17cc4152a8a2b"
  },
  {
   "cell_type": "code",
   "execution_count": null,
   "id": "initial_id",
   "metadata": {
    "collapsed": true,
    "is_executing": true
   },
   "outputs": [],
   "source": [
    "import pandas\n",
    "import matplotlib.pyplot as plt"
   ]
  },
  {
   "cell_type": "code",
   "outputs": [
    {
     "name": "stderr",
     "output_type": "stream",
     "text": [
      "/var/folders/8v/3hj81gys6dgdw401b74kwjrr0000gn/T/ipykernel_11162/3460426017.py:1: DtypeWarning: Columns (51,52) have mixed types. Specify dtype option on import or set low_memory=False.\n",
      "  df = pandas.read_csv(\"data/train-metadata.csv\")\n"
     ]
    },
    {
     "data": {
      "text/plain": "        isic_id  target  patient_id  age_approx   sex anatom_site_general  \\\n0  ISIC_0015670       0  IP_1235828        60.0  male     lower extremity   \n1  ISIC_0015845       0  IP_8170065        60.0  male           head/neck   \n2  ISIC_0015864       0  IP_6724798        60.0  male     posterior torso   \n3  ISIC_0015902       0  IP_4111386        65.0  male      anterior torso   \n4  ISIC_0024200       0  IP_8313778        55.0  male      anterior torso   \n\n   clin_size_long_diam_mm          image_type tbp_tile_type   tbp_lv_A  ...  \\\n0                    3.04  TBP tile: close-up     3D: white  20.244422  ...   \n1                    1.10  TBP tile: close-up     3D: white  31.712570  ...   \n2                    3.40  TBP tile: close-up        3D: XP  22.575830  ...   \n3                    3.22  TBP tile: close-up        3D: XP  14.242329  ...   \n4                    2.73  TBP tile: close-up     3D: white  24.725520  ...   \n\n    lesion_id  iddx_full  iddx_1  iddx_2  iddx_3  iddx_4  iddx_5  \\\n0         NaN     Benign  Benign     NaN     NaN     NaN     NaN   \n1  IL_6727506     Benign  Benign     NaN     NaN     NaN     NaN   \n2         NaN     Benign  Benign     NaN     NaN     NaN     NaN   \n3         NaN     Benign  Benign     NaN     NaN     NaN     NaN   \n4         NaN     Benign  Benign     NaN     NaN     NaN     NaN   \n\n   mel_mitotic_index  mel_thick_mm  tbp_lv_dnn_lesion_confidence  \n0                NaN           NaN                     97.517282  \n1                NaN           NaN                      3.141455  \n2                NaN           NaN                     99.804040  \n3                NaN           NaN                     99.989998  \n4                NaN           NaN                     70.442510  \n\n[5 rows x 55 columns]",
      "text/html": "<div>\n<style scoped>\n    .dataframe tbody tr th:only-of-type {\n        vertical-align: middle;\n    }\n\n    .dataframe tbody tr th {\n        vertical-align: top;\n    }\n\n    .dataframe thead th {\n        text-align: right;\n    }\n</style>\n<table border=\"1\" class=\"dataframe\">\n  <thead>\n    <tr style=\"text-align: right;\">\n      <th></th>\n      <th>isic_id</th>\n      <th>target</th>\n      <th>patient_id</th>\n      <th>age_approx</th>\n      <th>sex</th>\n      <th>anatom_site_general</th>\n      <th>clin_size_long_diam_mm</th>\n      <th>image_type</th>\n      <th>tbp_tile_type</th>\n      <th>tbp_lv_A</th>\n      <th>...</th>\n      <th>lesion_id</th>\n      <th>iddx_full</th>\n      <th>iddx_1</th>\n      <th>iddx_2</th>\n      <th>iddx_3</th>\n      <th>iddx_4</th>\n      <th>iddx_5</th>\n      <th>mel_mitotic_index</th>\n      <th>mel_thick_mm</th>\n      <th>tbp_lv_dnn_lesion_confidence</th>\n    </tr>\n  </thead>\n  <tbody>\n    <tr>\n      <th>0</th>\n      <td>ISIC_0015670</td>\n      <td>0</td>\n      <td>IP_1235828</td>\n      <td>60.0</td>\n      <td>male</td>\n      <td>lower extremity</td>\n      <td>3.04</td>\n      <td>TBP tile: close-up</td>\n      <td>3D: white</td>\n      <td>20.244422</td>\n      <td>...</td>\n      <td>NaN</td>\n      <td>Benign</td>\n      <td>Benign</td>\n      <td>NaN</td>\n      <td>NaN</td>\n      <td>NaN</td>\n      <td>NaN</td>\n      <td>NaN</td>\n      <td>NaN</td>\n      <td>97.517282</td>\n    </tr>\n    <tr>\n      <th>1</th>\n      <td>ISIC_0015845</td>\n      <td>0</td>\n      <td>IP_8170065</td>\n      <td>60.0</td>\n      <td>male</td>\n      <td>head/neck</td>\n      <td>1.10</td>\n      <td>TBP tile: close-up</td>\n      <td>3D: white</td>\n      <td>31.712570</td>\n      <td>...</td>\n      <td>IL_6727506</td>\n      <td>Benign</td>\n      <td>Benign</td>\n      <td>NaN</td>\n      <td>NaN</td>\n      <td>NaN</td>\n      <td>NaN</td>\n      <td>NaN</td>\n      <td>NaN</td>\n      <td>3.141455</td>\n    </tr>\n    <tr>\n      <th>2</th>\n      <td>ISIC_0015864</td>\n      <td>0</td>\n      <td>IP_6724798</td>\n      <td>60.0</td>\n      <td>male</td>\n      <td>posterior torso</td>\n      <td>3.40</td>\n      <td>TBP tile: close-up</td>\n      <td>3D: XP</td>\n      <td>22.575830</td>\n      <td>...</td>\n      <td>NaN</td>\n      <td>Benign</td>\n      <td>Benign</td>\n      <td>NaN</td>\n      <td>NaN</td>\n      <td>NaN</td>\n      <td>NaN</td>\n      <td>NaN</td>\n      <td>NaN</td>\n      <td>99.804040</td>\n    </tr>\n    <tr>\n      <th>3</th>\n      <td>ISIC_0015902</td>\n      <td>0</td>\n      <td>IP_4111386</td>\n      <td>65.0</td>\n      <td>male</td>\n      <td>anterior torso</td>\n      <td>3.22</td>\n      <td>TBP tile: close-up</td>\n      <td>3D: XP</td>\n      <td>14.242329</td>\n      <td>...</td>\n      <td>NaN</td>\n      <td>Benign</td>\n      <td>Benign</td>\n      <td>NaN</td>\n      <td>NaN</td>\n      <td>NaN</td>\n      <td>NaN</td>\n      <td>NaN</td>\n      <td>NaN</td>\n      <td>99.989998</td>\n    </tr>\n    <tr>\n      <th>4</th>\n      <td>ISIC_0024200</td>\n      <td>0</td>\n      <td>IP_8313778</td>\n      <td>55.0</td>\n      <td>male</td>\n      <td>anterior torso</td>\n      <td>2.73</td>\n      <td>TBP tile: close-up</td>\n      <td>3D: white</td>\n      <td>24.725520</td>\n      <td>...</td>\n      <td>NaN</td>\n      <td>Benign</td>\n      <td>Benign</td>\n      <td>NaN</td>\n      <td>NaN</td>\n      <td>NaN</td>\n      <td>NaN</td>\n      <td>NaN</td>\n      <td>NaN</td>\n      <td>70.442510</td>\n    </tr>\n  </tbody>\n</table>\n<p>5 rows × 55 columns</p>\n</div>"
     },
     "execution_count": 247,
     "metadata": {},
     "output_type": "execute_result"
    }
   ],
   "source": [
    "df = pandas.read_csv(\"data/train-metadata.csv\")\n",
    "df.head()"
   ],
   "metadata": {
    "collapsed": false,
    "ExecuteTime": {
     "end_time": "2025-04-15T01:51:26.079487Z",
     "start_time": "2025-04-15T01:51:23.339471Z"
    }
   },
   "id": "46fb186224b2a120",
   "execution_count": 247
  },
  {
   "cell_type": "code",
   "outputs": [
    {
     "data": {
      "text/plain": "target\n0    400666\n1       393\nName: count, dtype: int64"
     },
     "execution_count": 248,
     "metadata": {},
     "output_type": "execute_result"
    }
   ],
   "source": [
    "df[\"target\"].value_counts()"
   ],
   "metadata": {
    "collapsed": false,
    "ExecuteTime": {
     "end_time": "2025-04-15T01:51:26.091153Z",
     "start_time": "2025-04-15T01:51:26.081180Z"
    }
   },
   "id": "a2f7f6f01bfc354d",
   "execution_count": 248
  },
  {
   "cell_type": "code",
   "outputs": [
    {
     "data": {
      "text/plain": "(393, 55)"
     },
     "execution_count": 249,
     "metadata": {},
     "output_type": "execute_result"
    }
   ],
   "source": [
    "malignant = df[df[\"target\"] == 1]\n",
    "malignant.shape"
   ],
   "metadata": {
    "collapsed": false,
    "ExecuteTime": {
     "end_time": "2025-04-15T01:51:26.115106Z",
     "start_time": "2025-04-15T01:51:26.091773Z"
    }
   },
   "id": "d7d6b6479c2affe3",
   "execution_count": 249
  },
  {
   "cell_type": "code",
   "outputs": [
    {
     "data": {
      "text/plain": "(400666, 55)"
     },
     "execution_count": 250,
     "metadata": {},
     "output_type": "execute_result"
    }
   ],
   "source": [
    "benign = df[df[\"target\"] == 0]\n",
    "benign.shape"
   ],
   "metadata": {
    "collapsed": false,
    "ExecuteTime": {
     "end_time": "2025-04-15T01:51:26.257193Z",
     "start_time": "2025-04-15T01:51:26.117297Z"
    }
   },
   "id": "d463d30b3da65c1c",
   "execution_count": 250
  },
  {
   "cell_type": "code",
   "outputs": [
    {
     "data": {
      "text/plain": "(5000, 55)"
     },
     "execution_count": 251,
     "metadata": {},
     "output_type": "execute_result"
    }
   ],
   "source": [
    "SEED = 1234\n",
    "BENIGN_SIZE = 5000 # Limits benign samples for data balancing\n",
    "benign_limited = benign.sample(BENIGN_SIZE)\n",
    "benign_limited.shape"
   ],
   "metadata": {
    "collapsed": false,
    "ExecuteTime": {
     "end_time": "2025-04-15T01:51:26.277140Z",
     "start_time": "2025-04-15T01:51:26.258013Z"
    }
   },
   "id": "8c5e6d3bddd596f0",
   "execution_count": 251
  },
  {
   "cell_type": "code",
   "outputs": [
    {
     "data": {
      "text/plain": "(5393, 55)"
     },
     "execution_count": 252,
     "metadata": {},
     "output_type": "execute_result"
    }
   ],
   "source": [
    "merged_balanced = pandas.concat([benign_limited, malignant])\n",
    "merged_balanced.shape"
   ],
   "metadata": {
    "collapsed": false,
    "ExecuteTime": {
     "end_time": "2025-04-15T01:51:26.283175Z",
     "start_time": "2025-04-15T01:51:26.277761Z"
    }
   },
   "id": "2d500268e344eb72",
   "execution_count": 252
  },
  {
   "cell_type": "code",
   "outputs": [
    {
     "data": {
      "text/plain": "<Figure size 640x480 with 1 Axes>",
      "image/png": "[encoded data removed]"
     },
     "metadata": {},
     "output_type": "display_data"
    }
   ],
   "source": [
    "plt.hist(merged_balanced[\"target\"])\n",
    "plt.title(\"Target Label Distribution After Balancing\")\n",
    "plt.show()"
   ],
   "metadata": {
    "collapsed": false,
    "ExecuteTime": {
     "end_time": "2025-04-15T01:51:26.358966Z",
     "start_time": "2025-04-15T01:51:26.283799Z"
    }
   },
   "id": "da1446c77ae6bb6d",
   "execution_count": 253
  },
  {
   "cell_type": "markdown",
   "source": [
    "## Data Augmentation"
   ],
   "metadata": {
    "collapsed": false
   },
   "id": "113352d423e817e5"
  },
  {
   "cell_type": "code",
   "outputs": [],
   "source": [
    "import cv2\n",
    "from tqdm import tqdm\n",
    "\n",
    "def adjust_brightness_contrast(input_path: str, output_path: str):\n",
    "    if input_path == output_path:\n",
    "        raise ValueError(\"output path overwrites input path\")\n",
    "    \n",
    "    try:\n",
    "        img = cv2.imread(input_path)\n",
    "\n",
    "        if img is None:\n",
    "            raise ValueError(\"Failed to load image. Check the input path.\")\n",
    "\n",
    "        lab = cv2.cvtColor(img, cv2.COLOR_BGR2LAB)\n",
    "        l_channel, a, b = cv2.split(lab)\n",
    "        clahe = cv2.createCLAHE(clipLimit=2.0, tileGridSize=(8, 8))\n",
    "        cl = clahe.apply(l_channel)\n",
    "\n",
    "        limg = cv2.merge((cl, a, b))\n",
    "\n",
    "        enhanced_img = cv2.cvtColor(limg, cv2.COLOR_LAB2BGR)\n",
    "\n",
    "        cv2.imwrite(output_path, enhanced_img)\n",
    "\n",
    "    except Exception as e:\n",
    "        print(f\"Error adjusting brightness/contrast: {e}\")\n",
    "\n",
    "\n",
    "def flip_image(input_path: str, output_path: str, mode: str = 'horizontal'):\n",
    "    if input_path == output_path:\n",
    "        raise ValueError(\"output path overwrites input path\")\n",
    "    \n",
    "    try:\n",
    "        image = cv2.imread(input_path)\n",
    "        if image is None:\n",
    "            raise ValueError(\"Could not load image. Check the input path.\")\n",
    "\n",
    "        flip_codes = {\n",
    "            'horizontal': 1,\n",
    "            'vertical': 0,\n",
    "            'both': -1\n",
    "        }\n",
    "\n",
    "        if mode not in flip_codes:\n",
    "            raise ValueError(\"Invalid flip mode. Choose from 'horizontal', 'vertical', or 'both'.\")\n",
    "\n",
    "        flipped = cv2.flip(image, flip_codes[mode])\n",
    "        cv2.imwrite(output_path, flipped)\n",
    "\n",
    "    except Exception as e:\n",
    "        print(f\"Error flipping image: {e}\")\n"
   ],
   "metadata": {
    "collapsed": false,
    "ExecuteTime": {
     "end_time": "2025-04-15T01:51:26.391540Z",
     "start_time": "2025-04-15T01:51:26.362254Z"
    }
   },
   "id": "f4e6c6569ae11885",
   "execution_count": 254
  },
  {
   "cell_type": "code",
   "outputs": [
    {
     "name": "stderr",
     "output_type": "stream",
     "text": [
      "Transforming images: 100%|██████████| 393/393 [00:00<00:00, 971.59it/s] \n"
     ]
    },
    {
     "data": {
      "text/plain": "(6179, 56)"
     },
     "execution_count": 255,
     "metadata": {},
     "output_type": "execute_result"
    }
   ],
   "source": [
    "path_format = \"data/image/{}.jpg\"\n",
    "\n",
    "transformed_rows = []\n",
    "\n",
    "for _, row in tqdm(malignant.iterrows(), total=len(malignant), desc=\"Transforming images\"):\n",
    "    og_src = row[\"isic_id\"]\n",
    "    contrasted_output_name = og_src + \"_contrasted\"\n",
    "    flipped_output_name = og_src + \"_flipped\"\n",
    "    \n",
    "    input_path = path_format.format(og_src)\n",
    "    contrasted_output_path = path_format.format(contrasted_output_name)\n",
    "    flipped_output_path = path_format.format(flipped_output_name)\n",
    "    \n",
    "    adjust_brightness_contrast(input_path, contrasted_output_path)\n",
    "    flip_image(input_path, flipped_output_path)\n",
    "    \n",
    "    row_copy = row.copy()\n",
    "    row_copy[\"isic_id\"] = contrasted_output_name\n",
    "    transformed_rows.append(row_copy.to_dict())    \n",
    "    \n",
    "    row_copy = row.copy()\n",
    "    row_copy[\"isic_id\"] = flipped_output_name\n",
    "    transformed_rows.append(row_copy.to_dict())\n",
    "    \n",
    "\n",
    "transformed_df = pandas.DataFrame(transformed_rows)\n",
    "merged_balanced_augmented = pandas.concat([transformed_df, merged_balanced])\n",
    "merged_balanced_augmented[\"image_path\"] = [path_format.format(row[\"isic_id\"]) for (_, row) in merged_balanced_augmented.iterrows()]\n",
    "merged_balanced[\"image_path\"] = [path_format.format(row[\"isic_id\"]) for (_, row) in merged_balanced.iterrows()]\n",
    "merged_balanced_augmented.shape\n",
    "    "
   ],
   "metadata": {
    "collapsed": false,
    "ExecuteTime": {
     "end_time": "2025-04-15T01:51:26.980860Z",
     "start_time": "2025-04-15T01:51:26.398050Z"
    }
   },
   "id": "5803cffc1e0c934e",
   "execution_count": 255
  },
  {
   "cell_type": "code",
   "outputs": [
    {
     "data": {
      "text/plain": "<Figure size 640x480 with 2 Axes>",
      "image/png": "[encoded data removed]"
     },
     "metadata": {},
     "output_type": "display_data"
    }
   ],
   "source": [
    "fig, axes = plt.subplots(1, 2, )\n",
    "axes[0].hist(merged_balanced[\"target\"])\n",
    "axes[0].set_title(\"Before Augmentation\")\n",
    "axes[1].hist(merged_balanced_augmented[\"target\"])\n",
    "axes[1].set_title(\"After Augmentation\")\n",
    "fig.tight_layout()"
   ],
   "metadata": {
    "collapsed": false,
    "ExecuteTime": {
     "end_time": "2025-04-15T01:51:27.089818Z",
     "start_time": "2025-04-15T01:51:26.983166Z"
    }
   },
   "id": "89503d08b14ee589",
   "execution_count": 256
  },
  {
   "cell_type": "markdown",
   "source": [
    "## Training"
   ],
   "metadata": {
    "collapsed": false
   },
   "id": "e38c9534be7f10f9"
  },
  {
   "cell_type": "code",
   "outputs": [
    {
     "data": {
      "text/plain": "             isic_id  target  patient_id  age_approx     sex  \\\n166319  ISIC_4197835       0  IP_8506963        75.0  female   \n311744  ISIC_7793666       0  IP_5001333        60.0    male   \n265885  ISIC_6664144       0  IP_4439138        60.0    male   \n293489  ISIC_7344576       0  IP_9293142        55.0  female   \n217391  ISIC_5463619       0  IP_5714646        40.0    male   \n\n       anatom_site_general  clin_size_long_diam_mm          image_type  \\\n166319           head/neck                    2.77  TBP tile: close-up   \n311744     lower extremity                    2.60  TBP tile: close-up   \n265885      anterior torso                    2.58  TBP tile: close-up   \n293489     lower extremity                    3.20  TBP tile: close-up   \n217391     posterior torso                    5.28  TBP tile: close-up   \n\n       tbp_tile_type   tbp_lv_A  ...  iddx_full  iddx_1  iddx_2  iddx_3  \\\n166319        3D: XP  23.110520  ...     Benign  Benign     NaN     NaN   \n311744        3D: XP  20.294842  ...     Benign  Benign     NaN     NaN   \n265885     3D: white  22.697863  ...     Benign  Benign     NaN     NaN   \n293489        3D: XP  15.292420  ...     Benign  Benign     NaN     NaN   \n217391        3D: XP  18.585660  ...     Benign  Benign     NaN     NaN   \n\n        iddx_4  iddx_5  mel_mitotic_index  mel_thick_mm  \\\n166319     NaN     NaN                NaN           NaN   \n311744     NaN     NaN                NaN           NaN   \n265885     NaN     NaN                NaN           NaN   \n293489     NaN     NaN                NaN           NaN   \n217391     NaN     NaN                NaN           NaN   \n\n        tbp_lv_dnn_lesion_confidence                   image_path  \n166319                    100.000000  data/image/ISIC_4197835.jpg  \n311744                    100.000000  data/image/ISIC_7793666.jpg  \n265885                     99.976748  data/image/ISIC_6664144.jpg  \n293489                    100.000000  data/image/ISIC_7344576.jpg  \n217391                     99.999630  data/image/ISIC_5463619.jpg  \n\n[5 rows x 56 columns]",
      "text/html": "<div>\n<style scoped>\n    .dataframe tbody tr th:only-of-type {\n        vertical-align: middle;\n    }\n\n    .dataframe tbody tr th {\n        vertical-align: top;\n    }\n\n    .dataframe thead th {\n        text-align: right;\n    }\n</style>\n<table border=\"1\" class=\"dataframe\">\n  <thead>\n    <tr style=\"text-align: right;\">\n      <th></th>\n      <th>isic_id</th>\n      <th>target</th>\n      <th>patient_id</th>\n      <th>age_approx</th>\n      <th>sex</th>\n      <th>anatom_site_general</th>\n      <th>clin_size_long_diam_mm</th>\n      <th>image_type</th>\n      <th>tbp_tile_type</th>\n      <th>tbp_lv_A</th>\n      <th>...</th>\n      <th>iddx_full</th>\n      <th>iddx_1</th>\n      <th>iddx_2</th>\n      <th>iddx_3</th>\n      <th>iddx_4</th>\n      <th>iddx_5</th>\n      <th>mel_mitotic_index</th>\n      <th>mel_thick_mm</th>\n      <th>tbp_lv_dnn_lesion_confidence</th>\n      <th>image_path</th>\n    </tr>\n  </thead>\n  <tbody>\n    <tr>\n      <th>166319</th>\n      <td>ISIC_4197835</td>\n      <td>0</td>\n      <td>IP_8506963</td>\n      <td>75.0</td>\n      <td>female</td>\n      <td>head/neck</td>\n      <td>2.77</td>\n      <td>TBP tile: close-up</td>\n      <td>3D: XP</td>\n      <td>23.110520</td>\n      <td>...</td>\n      <td>Benign</td>\n      <td>Benign</td>\n      <td>NaN</td>\n      <td>NaN</td>\n      <td>NaN</td>\n      <td>NaN</td>\n      <td>NaN</td>\n      <td>NaN</td>\n      <td>100.000000</td>\n      <td>data/image/ISIC_4197835.jpg</td>\n    </tr>\n    <tr>\n      <th>311744</th>\n      <td>ISIC_7793666</td>\n      <td>0</td>\n      <td>IP_5001333</td>\n      <td>60.0</td>\n      <td>male</td>\n      <td>lower extremity</td>\n      <td>2.60</td>\n      <td>TBP tile: close-up</td>\n      <td>3D: XP</td>\n      <td>20.294842</td>\n      <td>...</td>\n      <td>Benign</td>\n      <td>Benign</td>\n      <td>NaN</td>\n      <td>NaN</td>\n      <td>NaN</td>\n      <td>NaN</td>\n      <td>NaN</td>\n      <td>NaN</td>\n      <td>100.000000</td>\n      <td>data/image/ISIC_7793666.jpg</td>\n    </tr>\n    <tr>\n      <th>265885</th>\n      <td>ISIC_6664144</td>\n      <td>0</td>\n      <td>IP_4439138</td>\n      <td>60.0</td>\n      <td>male</td>\n      <td>anterior torso</td>\n      <td>2.58</td>\n      <td>TBP tile: close-up</td>\n      <td>3D: white</td>\n      <td>22.697863</td>\n      <td>...</td>\n      <td>Benign</td>\n      <td>Benign</td>\n      <td>NaN</td>\n      <td>NaN</td>\n      <td>NaN</td>\n      <td>NaN</td>\n      <td>NaN</td>\n      <td>NaN</td>\n      <td>99.976748</td>\n      <td>data/image/ISIC_6664144.jpg</td>\n    </tr>\n    <tr>\n      <th>293489</th>\n      <td>ISIC_7344576</td>\n      <td>0</td>\n      <td>IP_9293142</td>\n      <td>55.0</td>\n      <td>female</td>\n      <td>lower extremity</td>\n      <td>3.20</td>\n      <td>TBP tile: close-up</td>\n      <td>3D: XP</td>\n      <td>15.292420</td>\n      <td>...</td>\n      <td>Benign</td>\n      <td>Benign</td>\n      <td>NaN</td>\n      <td>NaN</td>\n      <td>NaN</td>\n      <td>NaN</td>\n      <td>NaN</td>\n      <td>NaN</td>\n      <td>100.000000</td>\n      <td>data/image/ISIC_7344576.jpg</td>\n    </tr>\n    <tr>\n      <th>217391</th>\n      <td>ISIC_5463619</td>\n      <td>0</td>\n      <td>IP_5714646</td>\n      <td>40.0</td>\n      <td>male</td>\n      <td>posterior torso</td>\n      <td>5.28</td>\n      <td>TBP tile: close-up</td>\n      <td>3D: XP</td>\n      <td>18.585660</td>\n      <td>...</td>\n      <td>Benign</td>\n      <td>Benign</td>\n      <td>NaN</td>\n      <td>NaN</td>\n      <td>NaN</td>\n      <td>NaN</td>\n      <td>NaN</td>\n      <td>NaN</td>\n      <td>99.999630</td>\n      <td>data/image/ISIC_5463619.jpg</td>\n    </tr>\n  </tbody>\n</table>\n<p>5 rows × 56 columns</p>\n</div>"
     },
     "execution_count": 257,
     "metadata": {},
     "output_type": "execute_result"
    }
   ],
   "source": [
    "import random\n",
    "random.seed(SEED)\n",
    "\n",
    "test_ratio = 0.2\n",
    "\n",
    "def train_test_split(df, test_size=0.2, random_state=None):\n",
    "    test_df = df.sample(frac=test_size, random_state=random_state)\n",
    "    train_df = df.drop(test_df.index)\n",
    "    return train_df, test_df\n",
    "\n",
    "train_df, test_df = train_test_split(merged_balanced, test_size=test_ratio, random_state=SEED)\n",
    "train_df.head()"
   ],
   "metadata": {
    "collapsed": false,
    "ExecuteTime": {
     "end_time": "2025-04-15T01:51:27.102408Z",
     "start_time": "2025-04-15T01:51:27.090540Z"
    }
   },
   "id": "f66815730952fb66",
   "execution_count": 257
  },
  {
   "cell_type": "code",
   "outputs": [
    {
     "data": {
      "text/plain": "<torch._C.Generator at 0x17f64bab0>"
     },
     "execution_count": 258,
     "metadata": {},
     "output_type": "execute_result"
    }
   ],
   "source": [
    "import torch\n",
    "import torch.nn as nn\n",
    "import torch.nn.functional as F\n",
    "from torch.utils.data import Dataset, DataLoader\n",
    "from torchvision import transforms\n",
    "from PIL import Image\n",
    "import os\n",
    "\n",
    "torch.manual_seed(SEED)"
   ],
   "metadata": {
    "collapsed": false,
    "ExecuteTime": {
     "end_time": "2025-04-15T01:51:27.107281Z",
     "start_time": "2025-04-15T01:51:27.103035Z"
    }
   },
   "id": "a940ad6acb3ba502",
   "execution_count": 258
  },
  {
   "cell_type": "code",
   "outputs": [],
   "source": [
    "class ImageDataset(Dataset):\n",
    "    def __init__(self, image_paths, labels, transform=None):\n",
    "        \n",
    "        if len(image_paths) != len(labels):\n",
    "            raise ValueError(f\"Value mismatch between images ({len(image_paths)}) and labels ({len(labels)})\")\n",
    "        \n",
    "        self.image_paths = image_paths\n",
    "        self.labels = labels\n",
    "        self.transform = transform or transforms.Compose([\n",
    "            transforms.Resize((64, 64)),\n",
    "            transforms.ToTensor(),\n",
    "        ])\n",
    "\n",
    "    def __len__(self):\n",
    "        return len(self.image_paths)\n",
    "\n",
    "    def __getitem__(self, idx):\n",
    "        img_path = self.image_paths[idx]\n",
    "        label = float(self.labels[idx])\n",
    "        image = Image.open(img_path).convert(\"RGB\")\n",
    "        if self.transform:\n",
    "            image = self.transform(image)\n",
    "        return image, torch.tensor(label, dtype=torch.float32)\n",
    "\n",
    "train_dataset = ImageDataset(train_df[\"image_path\"].to_list(), train_df[\"target\"].to_list())\n",
    "test_dataset = ImageDataset(test_df[\"image_path\"].to_list(), test_df[\"target\"].to_list())\n",
    "\n",
    "train_loader = DataLoader(train_dataset, batch_size=32, shuffle=True)\n",
    "test_loader = DataLoader(test_dataset, batch_size=32, shuffle=False)\n"
   ],
   "metadata": {
    "collapsed": false,
    "ExecuteTime": {
     "end_time": "2025-04-15T01:51:27.112380Z",
     "start_time": "2025-04-15T01:51:27.107958Z"
    }
   },
   "id": "64a39e73dc32d5ba",
   "execution_count": 259
  },
  {
   "cell_type": "code",
   "outputs": [],
   "source": [
    "class BinaryCNN(nn.Module):\n",
    "    def __init__(self):\n",
    "        super(BinaryCNN, self).__init__()\n",
    "        self.conv_layers = nn.Sequential(\n",
    "            nn.Conv2d(3, 16, kernel_size=5, padding=2),\n",
    "            nn.ReLU(),\n",
    "            nn.MaxPool2d(2),  # (16, 32, 32)\n",
    "\n",
    "            nn.Conv2d(16, 32, kernel_size=5, padding=2),\n",
    "            nn.ReLU(),\n",
    "            nn.MaxPool2d(2),  # (32, 16, 16)\n",
    "            # \n",
    "            # nn.Conv2d(32, 64, kernel_size=3, padding=1),\n",
    "            # nn.ReLU(),\n",
    "            # nn.MaxPool2d(2),  # (64, 8, 8)\n",
    "            # \n",
    "            # nn.Conv2d(64, 128, kernel_size=3, padding=1),\n",
    "            # nn.ReLU(),\n",
    "            # nn.MaxPool2d(2),  # (128, 4, 4)\n",
    "        )\n",
    "        self.fc = nn.Sequential(\n",
    "            nn.Flatten(),\n",
    "            nn.Linear(32 * 16 * 16, 128),  # 2048 → 128\n",
    "            nn.ReLU(),\n",
    "            nn.Dropout(0.2),\n",
    "            nn.Linear(128, 1),\n",
    "            nn.Sigmoid()\n",
    "        )\n",
    "\n",
    "    def forward(self, x):\n",
    "        x = self.conv_layers(x)\n",
    "        x = self.fc(x)\n",
    "        return x.squeeze()\n"
   ],
   "metadata": {
    "collapsed": false,
    "ExecuteTime": {
     "end_time": "2025-04-15T01:51:27.115490Z",
     "start_time": "2025-04-15T01:51:27.112963Z"
    }
   },
   "id": "d54562f56f33aa5d",
   "execution_count": 260
  },
  {
   "cell_type": "code",
   "outputs": [
    {
     "name": "stdout",
     "output_type": "stream",
     "text": [
      "EPOCH: 0\tEval Loss: 0.2475\tTrain Loss: 0.2763\n",
      "EPOCH: 1\tEval Loss: 0.2392\tTrain Loss: 0.2646\n",
      "EPOCH: 2\tEval Loss: 0.2295\tTrain Loss: 0.2601\n",
      "EPOCH: 3\tEval Loss: 0.1981\tTrain Loss: 0.2358\n",
      "EPOCH: 4\tEval Loss: 0.1819\tTrain Loss: 0.2211\n",
      "EPOCH: 5\tEval Loss: 0.1915\tTrain Loss: 0.2259\n",
      "EPOCH: 6\tEval Loss: 0.1725\tTrain Loss: 0.2212\n",
      "EPOCH: 7\tEval Loss: 0.1936\tTrain Loss: 0.2020\n",
      "EPOCH: 8\tEval Loss: 0.1635\tTrain Loss: 0.2056\n",
      "EPOCH: 9\tEval Loss: 0.1715\tTrain Loss: 0.1979\n"
     ]
    }
   ],
   "source": [
    "EPOCH = 10\n",
    "\n",
    "# Model, Loss, Optimizer\n",
    "device = torch.device('cuda' if torch.cuda.is_available() else 'cpu')\n",
    "model = BinaryCNN().to(device)\n",
    "criterion = nn.BCELoss()\n",
    "optimizer = torch.optim.Adam(model.parameters(), lr=0.001)\n",
    "\n",
    "for epoch in range(EPOCH):\n",
    "    model.train()\n",
    "    train_loss = 0\n",
    "    train_total = 0\n",
    "    \n",
    "    for images, labels in train_loader:\n",
    "        images, labels = images.to(device), labels.to(device)\n",
    "        outputs = model(images)\n",
    "        loss = criterion(outputs, labels)\n",
    "\n",
    "        optimizer.zero_grad()\n",
    "        loss.backward()\n",
    "        optimizer.step()\n",
    "        \n",
    "        batch_size = images.size(0)\n",
    "        train_loss += loss.item() * batch_size\n",
    "        train_total += batch_size\n",
    "\n",
    "    model.eval()\n",
    "    eval_loss = 0\n",
    "    eval_total = 0\n",
    "    with torch.no_grad():\n",
    "        for images, labels in test_loader:\n",
    "            images, labels = images.to(device), labels.to(device)\n",
    "            outputs = model(images)\n",
    "            loss = criterion(outputs, labels)\n",
    "\n",
    "            batch_size = images.size(0)\n",
    "            eval_loss += loss.item() * batch_size\n",
    "            eval_total += batch_size\n",
    "\n",
    "    avg_train_loss = train_loss / train_total\n",
    "    avg_eval_loss = eval_loss / eval_total\n",
    "\n",
    "    print(f\"EPOCH: {epoch}\\tEval Loss: {avg_eval_loss:.4f}\\tTrain Loss: {avg_train_loss:.4f}\")\n"
   ],
   "metadata": {
    "collapsed": false,
    "ExecuteTime": {
     "end_time": "2025-04-15T01:53:03.785617Z",
     "start_time": "2025-04-15T01:51:27.120058Z"
    }
   },
   "id": "507fed2fff2cb7d5",
   "execution_count": 261
  },
  {
   "cell_type": "code",
   "outputs": [],
   "source": [
    "def calculate_accuracy(outputs, labels):\n",
    "    total_match = sum(i == j for i, j in zip(outputs, labels))\n",
    "    return total_match / len(outputs)\n",
    "\n",
    "total_outputs = []\n",
    "total_labels = []\n",
    " \n",
    "with torch.no_grad():\n",
    "    for images, labels in test_loader:\n",
    "        images, labels = images.to(device), labels.to(device)\n",
    "        outputs = model(images)\n",
    "        total_outputs.extend(outputs)\n",
    "        total_labels.extend(labels)\n",
    "        \n",
    "calculate_accuracy(total_outputs, total_labels)\n",
    "\n",
    "    "
   ],
   "metadata": {
    "collapsed": false,
    "ExecuteTime": {
     "end_time": "2025-04-15T01:53:03.788857Z",
     "start_time": "2025-04-15T01:53:03.786909Z"
    }
   },
   "id": "946d9ccfceaba821",
   "execution_count": 261
  },
  {
   "cell_type": "markdown",
   "source": [
    "## Saving Model"
   ],
   "metadata": {
    "collapsed": false
   },
   "id": "b044bd2305b2deaf"
  },
  {
   "cell_type": "code",
   "outputs": [
    {
     "name": "stdout",
     "output_type": "stream",
     "text": [
      "File save successful: True\n"
     ]
    }
   ],
   "source": [
    "save_path = \"cnn_weights.pth\"\n",
    "torch.save(model.state_dict(), save_path)\n",
    "print(f\"File save successful: {os.path.exists(save_path)}\")"
   ],
   "metadata": {
    "collapsed": false,
    "ExecuteTime": {
     "end_time": "2025-04-15T01:53:03.813431Z",
     "start_time": "2025-04-15T01:53:03.789593Z"
    }
   },
   "id": "4167503f91befa4e",
   "execution_count": 262
  }
 ],
 "metadata": {
  "kernelspec": {
   "display_name": "Python 3",
   "language": "python",
   "name": "python3"
  },
  "language_info": {
   "codemirror_mode": {
    "name": "ipython",
    "version": 2
   },
   "file_extension": ".py",
   "mimetype": "text/x-python",
   "name": "python",
   "nbconvert_exporter": "python",
   "pygments_lexer": "ipython2",
   "version": "2.7.6"
  }
 },
 "nbformat": 4,
 "nbformat_minor": 5
}
