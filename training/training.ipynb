{
 "cells": [
  {
   "cell_type": "markdown",
   "source": [
    "## Data Preprocessing"
   ],
   "metadata": {
    "collapsed": false
   },
   "id": "92f17cc4152a8a2b"
  },
  {
   "cell_type": "code",
   "execution_count": 14,
   "id": "initial_id",
   "metadata": {
    "collapsed": true,
    "ExecuteTime": {
     "end_time": "2025-04-20T19:52:43.450485Z",
     "start_time": "2025-04-20T19:52:43.440806Z"
    }
   },
   "outputs": [],
   "source": [
    "import pandas\n",
    "import matplotlib.pyplot as plt"
   ]
  },
  {
   "cell_type": "code",
   "outputs": [
    {
     "data": {
      "text/plain": "     lesion_id      image_id   dx dx_type   age   sex localization\n0  HAM_0000118  ISIC_0027419  bkl   histo  80.0  male        scalp\n1  HAM_0000118  ISIC_0025030  bkl   histo  80.0  male        scalp\n2  HAM_0002730  ISIC_0026769  bkl   histo  80.0  male        scalp\n3  HAM_0002730  ISIC_0025661  bkl   histo  80.0  male        scalp\n4  HAM_0001466  ISIC_0031633  bkl   histo  75.0  male          ear",
      "text/html": "<div>\n<style scoped>\n    .dataframe tbody tr th:only-of-type {\n        vertical-align: middle;\n    }\n\n    .dataframe tbody tr th {\n        vertical-align: top;\n    }\n\n    .dataframe thead th {\n        text-align: right;\n    }\n</style>\n<table border=\"1\" class=\"dataframe\">\n  <thead>\n    <tr style=\"text-align: right;\">\n      <th></th>\n      <th>lesion_id</th>\n      <th>image_id</th>\n      <th>dx</th>\n      <th>dx_type</th>\n      <th>age</th>\n      <th>sex</th>\n      <th>localization</th>\n    </tr>\n  </thead>\n  <tbody>\n    <tr>\n      <th>0</th>\n      <td>HAM_0000118</td>\n      <td>ISIC_0027419</td>\n      <td>bkl</td>\n      <td>histo</td>\n      <td>80.0</td>\n      <td>male</td>\n      <td>scalp</td>\n    </tr>\n    <tr>\n      <th>1</th>\n      <td>HAM_0000118</td>\n      <td>ISIC_0025030</td>\n      <td>bkl</td>\n      <td>histo</td>\n      <td>80.0</td>\n      <td>male</td>\n      <td>scalp</td>\n    </tr>\n    <tr>\n      <th>2</th>\n      <td>HAM_0002730</td>\n      <td>ISIC_0026769</td>\n      <td>bkl</td>\n      <td>histo</td>\n      <td>80.0</td>\n      <td>male</td>\n      <td>scalp</td>\n    </tr>\n    <tr>\n      <th>3</th>\n      <td>HAM_0002730</td>\n      <td>ISIC_0025661</td>\n      <td>bkl</td>\n      <td>histo</td>\n      <td>80.0</td>\n      <td>male</td>\n      <td>scalp</td>\n    </tr>\n    <tr>\n      <th>4</th>\n      <td>HAM_0001466</td>\n      <td>ISIC_0031633</td>\n      <td>bkl</td>\n      <td>histo</td>\n      <td>75.0</td>\n      <td>male</td>\n      <td>ear</td>\n    </tr>\n  </tbody>\n</table>\n</div>"
     },
     "execution_count": 15,
     "metadata": {},
     "output_type": "execute_result"
    }
   ],
   "source": [
    "df = pandas.read_csv(\"HAM10000_metadata.csv\")\n",
    "df.head()"
   ],
   "metadata": {
    "collapsed": false,
    "ExecuteTime": {
     "end_time": "2025-04-20T19:52:43.545484Z",
     "start_time": "2025-04-20T19:52:43.487316Z"
    }
   },
   "id": "46fb186224b2a120",
   "execution_count": 15
  },
  {
   "cell_type": "code",
   "outputs": [
    {
     "data": {
      "text/plain": "(9958, 7)"
     },
     "execution_count": 16,
     "metadata": {},
     "output_type": "execute_result"
    }
   ],
   "source": [
    "df.dropna(inplace=True)\n",
    "df.shape"
   ],
   "metadata": {
    "collapsed": false,
    "ExecuteTime": {
     "end_time": "2025-04-20T19:52:43.656227Z",
     "start_time": "2025-04-20T19:52:43.648130Z"
    }
   },
   "id": "dddf330f0b5e86e7",
   "execution_count": 16
  },
  {
   "cell_type": "code",
   "outputs": [
    {
     "data": {
      "text/plain": "<Axes: xlabel='dx'>"
     },
     "execution_count": 17,
     "metadata": {},
     "output_type": "execute_result"
    },
    {
     "data": {
      "text/plain": "<Figure size 640x480 with 1 Axes>",
      "image/png": "[encoded data removed]"
     },
     "metadata": {},
     "output_type": "display_data"
    }
   ],
   "source": [
    "target_counts = df[\"dx\"].value_counts()\n",
    "target_counts.plot(kind=\"bar\")"
   ],
   "metadata": {
    "collapsed": false,
    "ExecuteTime": {
     "end_time": "2025-04-20T19:52:43.807685Z",
     "start_time": "2025-04-20T19:52:43.708818Z"
    }
   },
   "id": "a2f7f6f01bfc354d",
   "execution_count": 17
  },
  {
   "cell_type": "code",
   "outputs": [
    {
     "data": {
      "text/plain": "array(['bkl', 'nv', 'df', 'mel', 'vasc', 'bcc', 'akiec'], dtype=object)"
     },
     "execution_count": 18,
     "metadata": {},
     "output_type": "execute_result"
    }
   ],
   "source": [
    "keys = df[\"dx\"].unique()\n",
    "keys"
   ],
   "metadata": {
    "collapsed": false,
    "ExecuteTime": {
     "end_time": "2025-04-20T19:52:43.813923Z",
     "start_time": "2025-04-20T19:52:43.809763Z"
    }
   },
   "id": "5e152fe4d7d0f6e6",
   "execution_count": 18
  },
  {
   "cell_type": "code",
   "outputs": [
    {
     "name": "stdout",
     "output_type": "stream",
     "text": [
      "{'bkl': 0, 'nv': 1, 'df': 2, 'mel': 3, 'vasc': 4, 'bcc': 5, 'akiec': 6}\n"
     ]
    },
    {
     "data": {
      "text/plain": "        lesion_id      image_id   dx    dx_type   age     sex  \\\n1507  HAM_0002824  ISIC_0033047  mel      histo  25.0  female   \n6039  HAM_0003166  ISIC_0030848   nv  follow_up  50.0  female   \n3217  HAM_0002465  ISIC_0026565   nv  follow_up  40.0  female   \n4458  HAM_0006508  ISIC_0030342   nv  follow_up  50.0  female   \n3298  HAM_0007204  ISIC_0025205   nv  follow_up  45.0  female   \n6060  HAM_0005118  ISIC_0025357   nv  follow_up  35.0  female   \n5463  HAM_0007564  ISIC_0028119   nv  follow_up  45.0    male   \n6816  HAM_0003767  ISIC_0027358   nv      histo  60.0    male   \n8824  HAM_0000603  ISIC_0030742   nv      histo  80.0    male   \n5127  HAM_0001797  ISIC_0031155   nv  follow_up  45.0  female   \n\n         localization  target_id  \n1507  lower extremity          3  \n6039             foot          1  \n3217            trunk          1  \n4458             foot          1  \n3298  lower extremity          1  \n6060          abdomen          1  \n5463  lower extremity          1  \n6816  upper extremity          1  \n8824          abdomen          1  \n5127          abdomen          1  ",
      "text/html": "<div>\n<style scoped>\n    .dataframe tbody tr th:only-of-type {\n        vertical-align: middle;\n    }\n\n    .dataframe tbody tr th {\n        vertical-align: top;\n    }\n\n    .dataframe thead th {\n        text-align: right;\n    }\n</style>\n<table border=\"1\" class=\"dataframe\">\n  <thead>\n    <tr style=\"text-align: right;\">\n      <th></th>\n      <th>lesion_id</th>\n      <th>image_id</th>\n      <th>dx</th>\n      <th>dx_type</th>\n      <th>age</th>\n      <th>sex</th>\n      <th>localization</th>\n      <th>target_id</th>\n    </tr>\n  </thead>\n  <tbody>\n    <tr>\n      <th>1507</th>\n      <td>HAM_0002824</td>\n      <td>ISIC_0033047</td>\n      <td>mel</td>\n      <td>histo</td>\n      <td>25.0</td>\n      <td>female</td>\n      <td>lower extremity</td>\n      <td>3</td>\n    </tr>\n    <tr>\n      <th>6039</th>\n      <td>HAM_0003166</td>\n      <td>ISIC_0030848</td>\n      <td>nv</td>\n      <td>follow_up</td>\n      <td>50.0</td>\n      <td>female</td>\n      <td>foot</td>\n      <td>1</td>\n    </tr>\n    <tr>\n      <th>3217</th>\n      <td>HAM_0002465</td>\n      <td>ISIC_0026565</td>\n      <td>nv</td>\n      <td>follow_up</td>\n      <td>40.0</td>\n      <td>female</td>\n      <td>trunk</td>\n      <td>1</td>\n    </tr>\n    <tr>\n      <th>4458</th>\n      <td>HAM_0006508</td>\n      <td>ISIC_0030342</td>\n      <td>nv</td>\n      <td>follow_up</td>\n      <td>50.0</td>\n      <td>female</td>\n      <td>foot</td>\n      <td>1</td>\n    </tr>\n    <tr>\n      <th>3298</th>\n      <td>HAM_0007204</td>\n      <td>ISIC_0025205</td>\n      <td>nv</td>\n      <td>follow_up</td>\n      <td>45.0</td>\n      <td>female</td>\n      <td>lower extremity</td>\n      <td>1</td>\n    </tr>\n    <tr>\n      <th>6060</th>\n      <td>HAM_0005118</td>\n      <td>ISIC_0025357</td>\n      <td>nv</td>\n      <td>follow_up</td>\n      <td>35.0</td>\n      <td>female</td>\n      <td>abdomen</td>\n      <td>1</td>\n    </tr>\n    <tr>\n      <th>5463</th>\n      <td>HAM_0007564</td>\n      <td>ISIC_0028119</td>\n      <td>nv</td>\n      <td>follow_up</td>\n      <td>45.0</td>\n      <td>male</td>\n      <td>lower extremity</td>\n      <td>1</td>\n    </tr>\n    <tr>\n      <th>6816</th>\n      <td>HAM_0003767</td>\n      <td>ISIC_0027358</td>\n      <td>nv</td>\n      <td>histo</td>\n      <td>60.0</td>\n      <td>male</td>\n      <td>upper extremity</td>\n      <td>1</td>\n    </tr>\n    <tr>\n      <th>8824</th>\n      <td>HAM_0000603</td>\n      <td>ISIC_0030742</td>\n      <td>nv</td>\n      <td>histo</td>\n      <td>80.0</td>\n      <td>male</td>\n      <td>abdomen</td>\n      <td>1</td>\n    </tr>\n    <tr>\n      <th>5127</th>\n      <td>HAM_0001797</td>\n      <td>ISIC_0031155</td>\n      <td>nv</td>\n      <td>follow_up</td>\n      <td>45.0</td>\n      <td>female</td>\n      <td>abdomen</td>\n      <td>1</td>\n    </tr>\n  </tbody>\n</table>\n</div>"
     },
     "execution_count": 19,
     "metadata": {},
     "output_type": "execute_result"
    }
   ],
   "source": [
    "index_dict = {item: index for index, item in enumerate(keys)}\n",
    "print(index_dict)\n",
    "df[\"target_id\"] = df[\"dx\"].map(lambda x: index_dict[x])\n",
    "df.sample(10)"
   ],
   "metadata": {
    "collapsed": false,
    "ExecuteTime": {
     "end_time": "2025-04-20T19:52:43.861458Z",
     "start_time": "2025-04-20T19:52:43.844532Z"
    }
   },
   "id": "4b0bccc1e31f4095",
   "execution_count": 19
  },
  {
   "cell_type": "markdown",
   "source": [
    "## Training"
   ],
   "metadata": {
    "collapsed": false
   },
   "id": "e38c9534be7f10f9"
  },
  {
   "cell_type": "code",
   "outputs": [
    {
     "data": {
      "text/plain": "((7966, 8), (1992, 8))"
     },
     "execution_count": 20,
     "metadata": {},
     "output_type": "execute_result"
    }
   ],
   "source": [
    "import random\n",
    "SEED = 1234\n",
    "random.seed(SEED)\n",
    "\n",
    "test_ratio = 0.2\n",
    "\n",
    "def train_test_split(df, test_size=0.2, random_state=None):\n",
    "    test_df = df.sample(frac=test_size, random_state=random_state)\n",
    "    train_df = df.drop(test_df.index)\n",
    "    return train_df, test_df\n",
    "\n",
    "train_df, test_df = train_test_split(df, test_size=test_ratio, random_state=SEED)\n",
    "train_df.shape, test_df.shape"
   ],
   "metadata": {
    "collapsed": false,
    "ExecuteTime": {
     "end_time": "2025-04-20T19:52:43.875002Z",
     "start_time": "2025-04-20T19:52:43.863199Z"
    }
   },
   "id": "f66815730952fb66",
   "execution_count": 20
  },
  {
   "cell_type": "code",
   "outputs": [
    {
     "data": {
      "text/plain": "<torch._C.Generator at 0x113f48290>"
     },
     "execution_count": 21,
     "metadata": {},
     "output_type": "execute_result"
    }
   ],
   "source": [
    "import torch\n",
    "import torch.nn as nn\n",
    "from torch.utils.data import Dataset, DataLoader\n",
    "from torchvision import transforms\n",
    "from PIL import Image\n",
    "import os\n",
    "from tqdm import tqdm\n",
    "\n",
    "torch.manual_seed(SEED)\n"
   ],
   "metadata": {
    "collapsed": false,
    "ExecuteTime": {
     "end_time": "2025-04-20T19:52:43.888076Z",
     "start_time": "2025-04-20T19:52:43.877574Z"
    }
   },
   "id": "a940ad6acb3ba502",
   "execution_count": 21
  },
  {
   "cell_type": "code",
   "outputs": [],
   "source": [
    "BASE_PATH = \"data\"\n",
    "FILE_TEMPLATE = \"{}.jpg\"\n",
    "\n",
    "class ImageDataset(Dataset):\n",
    "    def __init__(self, image_ids, labels, transform=None):\n",
    "        \n",
    "        if len(image_ids) != len(labels):\n",
    "            raise ValueError(f\"Value mismatch between images ({len(image_ids)}) and labels ({len(labels)})\")\n",
    "        \n",
    "        self.image_ids = image_ids\n",
    "        self.labels = labels\n",
    "        self.transform = transform or transforms.Compose([\n",
    "            transforms.Resize((64, 64)),\n",
    "            transforms.ToTensor(),\n",
    "        ])\n",
    "\n",
    "    def __len__(self):\n",
    "        return len(self.image_ids)\n",
    "\n",
    "    def __getitem__(self, idx):\n",
    "        image_id = self.image_ids[idx]\n",
    "        label = float(self.labels[idx])\n",
    "        img_path = os.path.join(BASE_PATH, FILE_TEMPLATE.format(image_id))\n",
    "        image = Image.open(img_path).convert(\"RGB\")\n",
    "        if self.transform:\n",
    "            image = self.transform(image)\n",
    "        return image, torch.tensor(label, dtype=torch.float32)\n",
    "\n",
    "train_dataset = ImageDataset(train_df[\"image_id\"].to_list(), train_df[\"target_id\"].to_list())\n",
    "test_dataset = ImageDataset(test_df[\"image_id\"].to_list(), test_df[\"target_id\"].to_list())\n",
    "\n",
    "train_loader = DataLoader(train_dataset, batch_size=32, shuffle=True)\n",
    "test_loader = DataLoader(test_dataset, batch_size=32, shuffle=False)\n"
   ],
   "metadata": {
    "collapsed": false,
    "ExecuteTime": {
     "end_time": "2025-04-20T19:52:43.946971Z",
     "start_time": "2025-04-20T19:52:43.941856Z"
    }
   },
   "id": "64a39e73dc32d5ba",
   "execution_count": 22
  },
  {
   "cell_type": "code",
   "outputs": [],
   "source": [
    "class DermaScannerModel(nn.Module):\n",
    "    def __init__(self, num_classes=7):\n",
    "        super(DermaScannerModel, self).__init__()\n",
    "        self.features = nn.Sequential(\n",
    "            nn.Conv2d(3, 16, kernel_size=5, padding=2),  # (64, 64)\n",
    "            nn.ReLU(),\n",
    "            nn.MaxPool2d(2),                             # -> (32, 32)\n",
    "            \n",
    "            nn.Conv2d(16, 32, kernel_size=5, padding=2), # (32, 32)\n",
    "            nn.ReLU(),\n",
    "            nn.MaxPool2d(2),                             # -> (16, 16)\n",
    "            \n",
    "            nn.Conv2d(32, 64, kernel_size=5, padding=2), # (16, 16)\n",
    "            nn.ReLU(),\n",
    "            nn.MaxPool2d(2),                             # -> (8, 8)\n",
    "        )\n",
    "\n",
    "        self.classifier = nn.Sequential(\n",
    "            nn.Flatten(),              # -> 64 * 8 * 8 = 4096\n",
    "            nn.Linear(64 * 8 * 8, 128),\n",
    "            nn.ReLU(),\n",
    "            nn.Dropout(0.3),\n",
    "            nn.Linear(128, num_classes)\n",
    "        )\n",
    "        \n",
    "    def forward(self, x):\n",
    "        x = self.features(x)\n",
    "        x = self.classifier(x)\n",
    "        return x\n"
   ],
   "metadata": {
    "collapsed": false,
    "ExecuteTime": {
     "end_time": "2025-04-20T19:52:43.950224Z",
     "start_time": "2025-04-20T19:52:43.947790Z"
    }
   },
   "id": "d54562f56f33aa5d",
   "execution_count": 23
  },
  {
   "cell_type": "code",
   "outputs": [
    {
     "name": "stderr",
     "output_type": "stream",
     "text": [
      "Training: 100%|██████████| 249/249 [00:59<00:00,  4.16it/s]\n",
      "Eval: 100%|██████████| 63/63 [00:11<00:00,  5.45it/s]\n"
     ]
    },
    {
     "name": "stdout",
     "output_type": "stream",
     "text": [
      "EPOCH: 0\tEval Loss: 0.0314\tTrain Loss: 0.0328\n"
     ]
    },
    {
     "name": "stderr",
     "output_type": "stream",
     "text": [
      "Training: 100%|██████████| 249/249 [00:59<00:00,  4.15it/s]\n",
      "Eval: 100%|██████████| 63/63 [00:11<00:00,  5.47it/s]\n"
     ]
    },
    {
     "name": "stdout",
     "output_type": "stream",
     "text": [
      "EPOCH: 1\tEval Loss: 0.0300\tTrain Loss: 0.0295\n"
     ]
    },
    {
     "name": "stderr",
     "output_type": "stream",
     "text": [
      "Training: 100%|██████████| 249/249 [01:00<00:00,  4.15it/s]\n",
      "Eval: 100%|██████████| 63/63 [00:11<00:00,  5.26it/s]\n"
     ]
    },
    {
     "name": "stdout",
     "output_type": "stream",
     "text": [
      "EPOCH: 2\tEval Loss: 0.0281\tTrain Loss: 0.0279\n"
     ]
    },
    {
     "name": "stderr",
     "output_type": "stream",
     "text": [
      "Training: 100%|██████████| 249/249 [01:02<00:00,  3.98it/s]\n",
      "Eval: 100%|██████████| 63/63 [00:12<00:00,  5.24it/s]\n"
     ]
    },
    {
     "name": "stdout",
     "output_type": "stream",
     "text": [
      "EPOCH: 3\tEval Loss: 0.0290\tTrain Loss: 0.0266\n"
     ]
    },
    {
     "name": "stderr",
     "output_type": "stream",
     "text": [
      "Training: 100%|██████████| 249/249 [01:03<00:00,  3.90it/s]\n",
      "Eval: 100%|██████████| 63/63 [00:11<00:00,  5.36it/s]\n"
     ]
    },
    {
     "name": "stdout",
     "output_type": "stream",
     "text": [
      "EPOCH: 4\tEval Loss: 0.0258\tTrain Loss: 0.0257\n"
     ]
    },
    {
     "name": "stderr",
     "output_type": "stream",
     "text": [
      "Training: 100%|██████████| 249/249 [01:02<00:00,  3.99it/s]\n",
      "Eval: 100%|██████████| 63/63 [00:12<00:00,  5.15it/s]\n"
     ]
    },
    {
     "name": "stdout",
     "output_type": "stream",
     "text": [
      "EPOCH: 5\tEval Loss: 0.0263\tTrain Loss: 0.0246\n"
     ]
    },
    {
     "name": "stderr",
     "output_type": "stream",
     "text": [
      "Training: 100%|██████████| 249/249 [01:06<00:00,  3.73it/s]\n",
      "Eval: 100%|██████████| 63/63 [00:13<00:00,  4.76it/s]\n"
     ]
    },
    {
     "name": "stdout",
     "output_type": "stream",
     "text": [
      "EPOCH: 6\tEval Loss: 0.0249\tTrain Loss: 0.0238\n"
     ]
    },
    {
     "name": "stderr",
     "output_type": "stream",
     "text": [
      "Training: 100%|██████████| 249/249 [01:05<00:00,  3.83it/s]\n",
      "Eval: 100%|██████████| 63/63 [00:12<00:00,  5.07it/s]\n"
     ]
    },
    {
     "name": "stdout",
     "output_type": "stream",
     "text": [
      "EPOCH: 7\tEval Loss: 0.0242\tTrain Loss: 0.0228\n"
     ]
    },
    {
     "name": "stderr",
     "output_type": "stream",
     "text": [
      "Training: 100%|██████████| 249/249 [01:03<00:00,  3.95it/s]\n",
      "Eval: 100%|██████████| 63/63 [00:12<00:00,  5.19it/s]\n"
     ]
    },
    {
     "name": "stdout",
     "output_type": "stream",
     "text": [
      "EPOCH: 8\tEval Loss: 0.0237\tTrain Loss: 0.0220\n"
     ]
    },
    {
     "name": "stderr",
     "output_type": "stream",
     "text": [
      "Training: 100%|██████████| 249/249 [01:06<00:00,  3.74it/s]\n",
      "Eval: 100%|██████████| 63/63 [00:12<00:00,  4.89it/s]\n"
     ]
    },
    {
     "name": "stdout",
     "output_type": "stream",
     "text": [
      "EPOCH: 9\tEval Loss: 0.0251\tTrain Loss: 0.0212\n"
     ]
    },
    {
     "name": "stderr",
     "output_type": "stream",
     "text": [
      "Training: 100%|██████████| 249/249 [01:09<00:00,  3.59it/s]\n",
      "Eval: 100%|██████████| 63/63 [00:12<00:00,  5.02it/s]\n"
     ]
    },
    {
     "name": "stdout",
     "output_type": "stream",
     "text": [
      "EPOCH: 10\tEval Loss: 0.0241\tTrain Loss: 0.0208\n"
     ]
    },
    {
     "name": "stderr",
     "output_type": "stream",
     "text": [
      "Training: 100%|██████████| 249/249 [01:11<00:00,  3.49it/s]\n",
      "Eval: 100%|██████████| 63/63 [00:14<00:00,  4.31it/s]\n"
     ]
    },
    {
     "name": "stdout",
     "output_type": "stream",
     "text": [
      "EPOCH: 11\tEval Loss: 0.0228\tTrain Loss: 0.0204\n"
     ]
    },
    {
     "name": "stderr",
     "output_type": "stream",
     "text": [
      "Training: 100%|██████████| 249/249 [01:13<00:00,  3.37it/s]\n",
      "Eval: 100%|██████████| 63/63 [00:13<00:00,  4.53it/s]\n"
     ]
    },
    {
     "name": "stdout",
     "output_type": "stream",
     "text": [
      "EPOCH: 12\tEval Loss: 0.0237\tTrain Loss: 0.0192\n"
     ]
    },
    {
     "name": "stderr",
     "output_type": "stream",
     "text": [
      "Training: 100%|██████████| 249/249 [01:08<00:00,  3.66it/s]\n",
      "Eval: 100%|██████████| 63/63 [00:12<00:00,  4.96it/s]\n"
     ]
    },
    {
     "name": "stdout",
     "output_type": "stream",
     "text": [
      "EPOCH: 13\tEval Loss: 0.0229\tTrain Loss: 0.0186\n"
     ]
    },
    {
     "name": "stderr",
     "output_type": "stream",
     "text": [
      "Training: 100%|██████████| 249/249 [01:06<00:00,  3.75it/s]\n",
      "Eval: 100%|██████████| 63/63 [00:13<00:00,  4.77it/s]"
     ]
    },
    {
     "name": "stdout",
     "output_type": "stream",
     "text": [
      "EPOCH: 14\tEval Loss: 0.0235\tTrain Loss: 0.0177\n"
     ]
    },
    {
     "name": "stderr",
     "output_type": "stream",
     "text": [
      "\n"
     ]
    }
   ],
   "source": [
    "EPOCH = 15\n",
    "\n",
    "# Model, Loss, Optimizer\n",
    "device = torch.device('cuda' if torch.cuda.is_available() else 'cpu')\n",
    "model = DermaScannerModel().to(device)\n",
    "criterion = nn.CrossEntropyLoss()\n",
    "optimizer = torch.optim.Adam(model.parameters(), lr=0.001)\n",
    "\n",
    "\n",
    "for epoch in range(EPOCH):\n",
    "    model.train()\n",
    "    train_loss = 0\n",
    "    train_total = 0\n",
    "    correct = 0\n",
    "    total = 0\n",
    "    \n",
    "    for images, labels in tqdm(train_loader, desc='Training'):\n",
    "        images, labels = images.to(device), labels.to(device)\n",
    "        outputs = model(images)\n",
    "        loss = criterion(outputs, labels.long())\n",
    "        \n",
    "\n",
    "        optimizer.zero_grad()\n",
    "        loss.backward()\n",
    "        optimizer.step()\n",
    "                \n",
    "        _, predicted = torch.max(outputs, 1)\n",
    "        total += labels.size(0)\n",
    "        correct += (predicted == labels).sum().item()\n",
    "        \n",
    "        batch_size = images.size(0)\n",
    "        train_loss += loss.item()\n",
    "        train_total += batch_size\n",
    "\n",
    "    model.eval()\n",
    "    eval_loss = 0\n",
    "    eval_total = 0\n",
    "    with torch.no_grad():\n",
    "        for images, labels in tqdm(test_loader, desc=\"Eval\"):\n",
    "            images, labels = images.to(device), labels.to(device)\n",
    "            outputs = model(images)\n",
    "            loss = criterion(outputs, labels.long())\n",
    "\n",
    "            batch_size = images.size(0)\n",
    "            eval_loss += loss.item()\n",
    "            eval_total += batch_size\n",
    "\n",
    "    avg_train_loss = train_loss / train_total\n",
    "    avg_eval_loss = eval_loss / eval_total\n",
    "\n",
    "    print(f\"EPOCH: {epoch}\\tEval Loss: {avg_eval_loss:.4f}\\tTrain Loss: {avg_train_loss:.4f}\")\n"
   ],
   "metadata": {
    "collapsed": false,
    "ExecuteTime": {
     "end_time": "2025-04-20T20:12:11.743642Z",
     "start_time": "2025-04-20T19:52:43.957628Z"
    }
   },
   "id": "507fed2fff2cb7d5",
   "execution_count": 24
  },
  {
   "cell_type": "code",
   "outputs": [
    {
     "name": "stdout",
     "output_type": "stream",
     "text": [
      "              precision    recall  f1-score   support\n",
      "\n",
      "         bkl       0.54      0.40      0.46       225\n",
      "          nv       0.81      0.95      0.87      1312\n",
      "          df       0.50      0.10      0.16        31\n",
      "         mel       0.54      0.33      0.41       241\n",
      "        vasc       0.76      0.59      0.67        32\n",
      "         bcc       0.54      0.38      0.45        97\n",
      "       akiec       0.36      0.37      0.37        54\n",
      "\n",
      "    accuracy                           0.75      1992\n",
      "   macro avg       0.58      0.45      0.48      1992\n",
      "weighted avg       0.72      0.75      0.72      1992\n"
     ]
    }
   ],
   "source": [
    "from sklearn.metrics import classification_report\n",
    "total_output = []\n",
    "total_targets = []\n",
    "model.eval()\n",
    "\n",
    "with torch.no_grad():\n",
    "    for images, labels in test_loader:\n",
    "        outputs = model(images)\n",
    "        _, predicted = torch.max(outputs, 1)\n",
    "        total_output.extend(predicted.numpy())\n",
    "        total_targets.extend(labels.numpy())\n",
    "\n",
    "result = classification_report(total_targets, total_output, target_names=keys)\n",
    "print(result)"
   ],
   "metadata": {
    "collapsed": false,
    "ExecuteTime": {
     "end_time": "2025-04-20T20:12:32.499843Z",
     "start_time": "2025-04-20T20:12:11.748333Z"
    }
   },
   "id": "99b7b6379e71e0f1",
   "execution_count": 25
  },
  {
   "cell_type": "markdown",
   "source": [
    "## Saving Model"
   ],
   "metadata": {
    "collapsed": false
   },
   "id": "b044bd2305b2deaf"
  },
  {
   "cell_type": "code",
   "outputs": [
    {
     "name": "stdout",
     "output_type": "stream",
     "text": [
      "File save successful: True\n"
     ]
    }
   ],
   "source": [
    "save_path = \"../backend/cnn_weights.pth\"\n",
    "torch.save(model.state_dict(), save_path)\n",
    "print(f\"File save successful: {os.path.exists(save_path)}\")"
   ],
   "metadata": {
    "collapsed": false,
    "ExecuteTime": {
     "end_time": "2025-04-20T20:12:32.532996Z",
     "start_time": "2025-04-20T20:12:32.503442Z"
    }
   },
   "id": "4167503f91befa4e",
   "execution_count": 26
  },
  {
   "cell_type": "code",
   "outputs": [],
   "source": [],
   "metadata": {
    "collapsed": false,
    "ExecuteTime": {
     "end_time": "2025-04-20T20:12:32.537596Z",
     "start_time": "2025-04-20T20:12:32.535769Z"
    }
   },
   "id": "3df60c2e4b377970",
   "execution_count": 26
  }
 ],
 "metadata": {
  "kernelspec": {
   "display_name": "Python 3",
   "language": "python",
   "name": "python3"
  },
  "language_info": {
   "codemirror_mode": {
    "name": "ipython",
    "version": 2
   },
   "file_extension": ".py",
   "mimetype": "text/x-python",
   "name": "python",
   "nbconvert_exporter": "python",
   "pygments_lexer": "ipython2",
   "version": "2.7.6"
  }
 },
 "nbformat": 4,
 "nbformat_minor": 5
}
