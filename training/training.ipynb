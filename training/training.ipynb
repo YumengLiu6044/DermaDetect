{
 "cells": [
  {
   "cell_type": "markdown",
   "source": [
    "## Data Preprocessing"
   ],
   "metadata": {
    "collapsed": false
   },
   "id": "92f17cc4152a8a2b"
  },
  {
   "cell_type": "code",
   "execution_count": 12,
   "id": "initial_id",
   "metadata": {
    "collapsed": true,
    "ExecuteTime": {
     "end_time": "2025-04-19T19:27:58.439312Z",
     "start_time": "2025-04-19T19:27:58.429600Z"
    }
   },
   "outputs": [],
   "source": [
    "import pandas\n",
    "import matplotlib.pyplot as plt"
   ]
  },
  {
   "cell_type": "code",
   "outputs": [
    {
     "data": {
      "text/plain": "     lesion_id      image_id   dx dx_type   age   sex localization\n0  HAM_0000118  ISIC_0027419  bkl   histo  80.0  male        scalp\n1  HAM_0000118  ISIC_0025030  bkl   histo  80.0  male        scalp\n2  HAM_0002730  ISIC_0026769  bkl   histo  80.0  male        scalp\n3  HAM_0002730  ISIC_0025661  bkl   histo  80.0  male        scalp\n4  HAM_0001466  ISIC_0031633  bkl   histo  75.0  male          ear",
      "text/html": "<div>\n<style scoped>\n    .dataframe tbody tr th:only-of-type {\n        vertical-align: middle;\n    }\n\n    .dataframe tbody tr th {\n        vertical-align: top;\n    }\n\n    .dataframe thead th {\n        text-align: right;\n    }\n</style>\n<table border=\"1\" class=\"dataframe\">\n  <thead>\n    <tr style=\"text-align: right;\">\n      <th></th>\n      <th>lesion_id</th>\n      <th>image_id</th>\n      <th>dx</th>\n      <th>dx_type</th>\n      <th>age</th>\n      <th>sex</th>\n      <th>localization</th>\n    </tr>\n  </thead>\n  <tbody>\n    <tr>\n      <th>0</th>\n      <td>HAM_0000118</td>\n      <td>ISIC_0027419</td>\n      <td>bkl</td>\n      <td>histo</td>\n      <td>80.0</td>\n      <td>male</td>\n      <td>scalp</td>\n    </tr>\n    <tr>\n      <th>1</th>\n      <td>HAM_0000118</td>\n      <td>ISIC_0025030</td>\n      <td>bkl</td>\n      <td>histo</td>\n      <td>80.0</td>\n      <td>male</td>\n      <td>scalp</td>\n    </tr>\n    <tr>\n      <th>2</th>\n      <td>HAM_0002730</td>\n      <td>ISIC_0026769</td>\n      <td>bkl</td>\n      <td>histo</td>\n      <td>80.0</td>\n      <td>male</td>\n      <td>scalp</td>\n    </tr>\n    <tr>\n      <th>3</th>\n      <td>HAM_0002730</td>\n      <td>ISIC_0025661</td>\n      <td>bkl</td>\n      <td>histo</td>\n      <td>80.0</td>\n      <td>male</td>\n      <td>scalp</td>\n    </tr>\n    <tr>\n      <th>4</th>\n      <td>HAM_0001466</td>\n      <td>ISIC_0031633</td>\n      <td>bkl</td>\n      <td>histo</td>\n      <td>75.0</td>\n      <td>male</td>\n      <td>ear</td>\n    </tr>\n  </tbody>\n</table>\n</div>"
     },
     "execution_count": 13,
     "metadata": {},
     "output_type": "execute_result"
    }
   ],
   "source": [
    "df = pandas.read_csv(\"HAM10000_metadata.csv\")\n",
    "df.head()"
   ],
   "metadata": {
    "collapsed": false,
    "ExecuteTime": {
     "end_time": "2025-04-19T19:27:58.509781Z",
     "start_time": "2025-04-19T19:27:58.486002Z"
    }
   },
   "id": "46fb186224b2a120",
   "execution_count": 13
  },
  {
   "cell_type": "code",
   "outputs": [
    {
     "data": {
      "text/plain": "(9958, 7)"
     },
     "execution_count": 14,
     "metadata": {},
     "output_type": "execute_result"
    }
   ],
   "source": [
    "df.dropna(inplace=True)\n",
    "df.shape"
   ],
   "metadata": {
    "collapsed": false,
    "ExecuteTime": {
     "end_time": "2025-04-19T19:27:58.520464Z",
     "start_time": "2025-04-19T19:27:58.511578Z"
    }
   },
   "id": "dddf330f0b5e86e7",
   "execution_count": 14
  },
  {
   "cell_type": "code",
   "outputs": [
    {
     "data": {
      "text/plain": "<Axes: xlabel='dx'>"
     },
     "execution_count": 15,
     "metadata": {},
     "output_type": "execute_result"
    },
    {
     "data": {
      "text/plain": "<Figure size 640x480 with 1 Axes>",
      "image/png": "[encoded data removed]"
     },
     "metadata": {},
     "output_type": "display_data"
    }
   ],
   "source": [
    "target_counts = df[\"dx\"].value_counts()\n",
    "target_counts.plot(kind=\"bar\")"
   ],
   "metadata": {
    "collapsed": false,
    "ExecuteTime": {
     "end_time": "2025-04-19T19:27:58.615001Z",
     "start_time": "2025-04-19T19:27:58.522142Z"
    }
   },
   "id": "a2f7f6f01bfc354d",
   "execution_count": 15
  },
  {
   "cell_type": "code",
   "outputs": [
    {
     "data": {
      "text/plain": "array(['bkl', 'nv', 'df', 'mel', 'vasc', 'bcc', 'akiec'], dtype=object)"
     },
     "execution_count": 16,
     "metadata": {},
     "output_type": "execute_result"
    }
   ],
   "source": [
    "keys = df[\"dx\"].unique()\n",
    "keys"
   ],
   "metadata": {
    "collapsed": false,
    "ExecuteTime": {
     "end_time": "2025-04-19T19:27:58.622216Z",
     "start_time": "2025-04-19T19:27:58.617722Z"
    }
   },
   "id": "5e152fe4d7d0f6e6",
   "execution_count": 16
  },
  {
   "cell_type": "code",
   "outputs": [
    {
     "name": "stdout",
     "output_type": "stream",
     "text": [
      "{'bkl': 0, 'nv': 1, 'df': 2, 'mel': 3, 'vasc': 4, 'bcc': 5, 'akiec': 6}\n"
     ]
    },
    {
     "data": {
      "text/plain": "        lesion_id      image_id   dx    dx_type   age     sex  \\\n6055  HAM_0002910  ISIC_0031010   nv  follow_up  45.0    male   \n2568  HAM_0006384  ISIC_0031272  bcc      histo  80.0    male   \n3324  HAM_0001816  ISIC_0028827   nv  follow_up  45.0  female   \n9462  HAM_0005263  ISIC_0033247   nv  consensus  40.0    male   \n7606  HAM_0001511  ISIC_0033002   nv      histo  30.0  female   \n2603  HAM_0000823  ISIC_0033575  bcc      histo  75.0  female   \n8861  HAM_0003987  ISIC_0030354   nv      histo  40.0  female   \n2871  HAM_0000655  ISIC_0027175  bcc      histo  70.0  female   \n942   HAM_0000080  ISIC_0033528  bkl  consensus  70.0    male   \n327   HAM_0006122  ISIC_0031556  bkl      histo  60.0    male   \n\n         localization  target_id  \n6055  lower extremity          1  \n2568             face          5  \n3324             foot          1  \n9462            trunk          1  \n7606             back          1  \n2603             face          5  \n8861  lower extremity          1  \n2871             neck          5  \n942   lower extremity          0  \n327             scalp          0  ",
      "text/html": "<div>\n<style scoped>\n    .dataframe tbody tr th:only-of-type {\n        vertical-align: middle;\n    }\n\n    .dataframe tbody tr th {\n        vertical-align: top;\n    }\n\n    .dataframe thead th {\n        text-align: right;\n    }\n</style>\n<table border=\"1\" class=\"dataframe\">\n  <thead>\n    <tr style=\"text-align: right;\">\n      <th></th>\n      <th>lesion_id</th>\n      <th>image_id</th>\n      <th>dx</th>\n      <th>dx_type</th>\n      <th>age</th>\n      <th>sex</th>\n      <th>localization</th>\n      <th>target_id</th>\n    </tr>\n  </thead>\n  <tbody>\n    <tr>\n      <th>6055</th>\n      <td>HAM_0002910</td>\n      <td>ISIC_0031010</td>\n      <td>nv</td>\n      <td>follow_up</td>\n      <td>45.0</td>\n      <td>male</td>\n      <td>lower extremity</td>\n      <td>1</td>\n    </tr>\n    <tr>\n      <th>2568</th>\n      <td>HAM_0006384</td>\n      <td>ISIC_0031272</td>\n      <td>bcc</td>\n      <td>histo</td>\n      <td>80.0</td>\n      <td>male</td>\n      <td>face</td>\n      <td>5</td>\n    </tr>\n    <tr>\n      <th>3324</th>\n      <td>HAM_0001816</td>\n      <td>ISIC_0028827</td>\n      <td>nv</td>\n      <td>follow_up</td>\n      <td>45.0</td>\n      <td>female</td>\n      <td>foot</td>\n      <td>1</td>\n    </tr>\n    <tr>\n      <th>9462</th>\n      <td>HAM_0005263</td>\n      <td>ISIC_0033247</td>\n      <td>nv</td>\n      <td>consensus</td>\n      <td>40.0</td>\n      <td>male</td>\n      <td>trunk</td>\n      <td>1</td>\n    </tr>\n    <tr>\n      <th>7606</th>\n      <td>HAM_0001511</td>\n      <td>ISIC_0033002</td>\n      <td>nv</td>\n      <td>histo</td>\n      <td>30.0</td>\n      <td>female</td>\n      <td>back</td>\n      <td>1</td>\n    </tr>\n    <tr>\n      <th>2603</th>\n      <td>HAM_0000823</td>\n      <td>ISIC_0033575</td>\n      <td>bcc</td>\n      <td>histo</td>\n      <td>75.0</td>\n      <td>female</td>\n      <td>face</td>\n      <td>5</td>\n    </tr>\n    <tr>\n      <th>8861</th>\n      <td>HAM_0003987</td>\n      <td>ISIC_0030354</td>\n      <td>nv</td>\n      <td>histo</td>\n      <td>40.0</td>\n      <td>female</td>\n      <td>lower extremity</td>\n      <td>1</td>\n    </tr>\n    <tr>\n      <th>2871</th>\n      <td>HAM_0000655</td>\n      <td>ISIC_0027175</td>\n      <td>bcc</td>\n      <td>histo</td>\n      <td>70.0</td>\n      <td>female</td>\n      <td>neck</td>\n      <td>5</td>\n    </tr>\n    <tr>\n      <th>942</th>\n      <td>HAM_0000080</td>\n      <td>ISIC_0033528</td>\n      <td>bkl</td>\n      <td>consensus</td>\n      <td>70.0</td>\n      <td>male</td>\n      <td>lower extremity</td>\n      <td>0</td>\n    </tr>\n    <tr>\n      <th>327</th>\n      <td>HAM_0006122</td>\n      <td>ISIC_0031556</td>\n      <td>bkl</td>\n      <td>histo</td>\n      <td>60.0</td>\n      <td>male</td>\n      <td>scalp</td>\n      <td>0</td>\n    </tr>\n  </tbody>\n</table>\n</div>"
     },
     "execution_count": 25,
     "metadata": {},
     "output_type": "execute_result"
    }
   ],
   "source": [
    "index_dict = {item: index for index, item in enumerate(keys)}\n",
    "print(index_dict)\n",
    "df[\"target_id\"] = df[\"dx\"].map(lambda x: index_dict[x])\n",
    "df.sample(10)"
   ],
   "metadata": {
    "collapsed": false,
    "ExecuteTime": {
     "end_time": "2025-04-19T19:59:42.661917Z",
     "start_time": "2025-04-19T19:59:42.628173Z"
    }
   },
   "id": "4b0bccc1e31f4095",
   "execution_count": 25
  },
  {
   "cell_type": "markdown",
   "source": [
    "## Training"
   ],
   "metadata": {
    "collapsed": false
   },
   "id": "e38c9534be7f10f9"
  },
  {
   "cell_type": "code",
   "outputs": [
    {
     "data": {
      "text/plain": "((7966, 8), (1992, 8))"
     },
     "execution_count": 18,
     "metadata": {},
     "output_type": "execute_result"
    }
   ],
   "source": [
    "import random\n",
    "SEED = 1234\n",
    "random.seed(SEED)\n",
    "\n",
    "test_ratio = 0.2\n",
    "\n",
    "def train_test_split(df, test_size=0.2, random_state=None):\n",
    "    test_df = df.sample(frac=test_size, random_state=random_state)\n",
    "    train_df = df.drop(test_df.index)\n",
    "    return train_df, test_df\n",
    "\n",
    "train_df, test_df = train_test_split(df, test_size=test_ratio, random_state=SEED)\n",
    "train_df.shape, test_df.shape"
   ],
   "metadata": {
    "collapsed": false,
    "ExecuteTime": {
     "end_time": "2025-04-19T19:27:58.649182Z",
     "start_time": "2025-04-19T19:27:58.641888Z"
    }
   },
   "id": "f66815730952fb66",
   "execution_count": 18
  },
  {
   "cell_type": "code",
   "outputs": [
    {
     "data": {
      "text/plain": "<torch._C.Generator at 0x10cf44270>"
     },
     "execution_count": 19,
     "metadata": {},
     "output_type": "execute_result"
    }
   ],
   "source": [
    "import torch\n",
    "import torch.nn as nn\n",
    "from torch.utils.data import Dataset, DataLoader\n",
    "from torchvision import transforms\n",
    "from PIL import Image\n",
    "import os\n",
    "from tqdm import tqdm\n",
    "\n",
    "torch.manual_seed(SEED)\n"
   ],
   "metadata": {
    "collapsed": false,
    "ExecuteTime": {
     "end_time": "2025-04-19T19:27:58.656643Z",
     "start_time": "2025-04-19T19:27:58.650266Z"
    }
   },
   "id": "a940ad6acb3ba502",
   "execution_count": 19
  },
  {
   "cell_type": "code",
   "outputs": [],
   "source": [
    "BASE_PATH = \"data\"\n",
    "FILE_TEMPLATE = \"{}.jpg\"\n",
    "\n",
    "class ImageDataset(Dataset):\n",
    "    def __init__(self, image_ids, labels, transform=None):\n",
    "        \n",
    "        if len(image_ids) != len(labels):\n",
    "            raise ValueError(f\"Value mismatch between images ({len(image_ids)}) and labels ({len(labels)})\")\n",
    "        \n",
    "        self.image_ids = image_ids\n",
    "        self.labels = labels\n",
    "        self.transform = transform or transforms.Compose([\n",
    "            transforms.Resize((64, 64)),\n",
    "            transforms.ToTensor(),\n",
    "        ])\n",
    "\n",
    "    def __len__(self):\n",
    "        return len(self.image_ids)\n",
    "\n",
    "    def __getitem__(self, idx):\n",
    "        image_id = self.image_ids[idx]\n",
    "        label = float(self.labels[idx])\n",
    "        img_path = os.path.join(BASE_PATH, FILE_TEMPLATE.format(image_id))\n",
    "        image = Image.open(img_path).convert(\"RGB\")\n",
    "        if self.transform:\n",
    "            image = self.transform(image)\n",
    "        return image, torch.tensor(label, dtype=torch.float32)\n",
    "\n",
    "train_dataset = ImageDataset(train_df[\"image_id\"].to_list(), train_df[\"target_id\"].to_list())\n",
    "test_dataset = ImageDataset(test_df[\"image_id\"].to_list(), test_df[\"target_id\"].to_list())\n",
    "\n",
    "train_loader = DataLoader(train_dataset, batch_size=32, shuffle=True)\n",
    "test_loader = DataLoader(test_dataset, batch_size=32, shuffle=False)\n"
   ],
   "metadata": {
    "collapsed": false,
    "ExecuteTime": {
     "end_time": "2025-04-19T19:27:58.662925Z",
     "start_time": "2025-04-19T19:27:58.657529Z"
    }
   },
   "id": "64a39e73dc32d5ba",
   "execution_count": 20
  },
  {
   "cell_type": "code",
   "outputs": [],
   "source": [
    "class DermaScannerModel(nn.Module):\n",
    "    def __init__(self, num_classes=7):\n",
    "        super(DermaScannerModel, self).__init__()\n",
    "        self.features = nn.Sequential(\n",
    "            nn.Conv2d(3, 16, kernel_size=3, padding=1),  # (64, 64)\n",
    "            nn.ReLU(),\n",
    "            nn.MaxPool2d(2),                             # -> (32, 32)\n",
    "            \n",
    "            nn.Conv2d(16, 32, kernel_size=3, padding=1), # (32, 32)\n",
    "            nn.ReLU(),\n",
    "            nn.MaxPool2d(2),                             # -> (16, 16)\n",
    "            \n",
    "            nn.Conv2d(32, 64, kernel_size=3, padding=1), # (16, 16)\n",
    "            nn.ReLU(),\n",
    "            nn.MaxPool2d(2),                             # -> (8, 8)\n",
    "        )\n",
    "\n",
    "        self.classifier = nn.Sequential(\n",
    "            nn.Flatten(),              # -> 64 * 8 * 8 = 4096\n",
    "            nn.Linear(64 * 8 * 8, 128),\n",
    "            nn.ReLU(),\n",
    "            nn.Dropout(0.3),\n",
    "            nn.Linear(128, num_classes)\n",
    "        )\n",
    "        \n",
    "    def forward(self, x):\n",
    "        x = self.features(x)\n",
    "        x = self.classifier(x)\n",
    "        return x\n"
   ],
   "metadata": {
    "collapsed": false,
    "ExecuteTime": {
     "end_time": "2025-04-19T19:27:58.668246Z",
     "start_time": "2025-04-19T19:27:58.664362Z"
    }
   },
   "id": "d54562f56f33aa5d",
   "execution_count": 21
  },
  {
   "cell_type": "code",
   "outputs": [
    {
     "name": "stderr",
     "output_type": "stream",
     "text": [
      "Training: 100%|██████████| 249/249 [01:05<00:00,  3.83it/s]\n",
      "Eval: 100%|██████████| 63/63 [00:12<00:00,  4.86it/s]\n"
     ]
    },
    {
     "name": "stdout",
     "output_type": "stream",
     "text": [
      "EPOCH: 0\tEval Loss: 0.0288\tTrain Loss: 0.0327\n"
     ]
    },
    {
     "name": "stderr",
     "output_type": "stream",
     "text": [
      "Training: 100%|██████████| 249/249 [00:59<00:00,  4.19it/s]\n",
      "Eval: 100%|██████████| 63/63 [00:12<00:00,  4.88it/s]\n"
     ]
    },
    {
     "name": "stdout",
     "output_type": "stream",
     "text": [
      "EPOCH: 1\tEval Loss: 0.0275\tTrain Loss: 0.0282\n"
     ]
    },
    {
     "name": "stderr",
     "output_type": "stream",
     "text": [
      "Training: 100%|██████████| 249/249 [00:56<00:00,  4.40it/s]\n",
      "Eval: 100%|██████████| 63/63 [00:12<00:00,  5.11it/s]\n"
     ]
    },
    {
     "name": "stdout",
     "output_type": "stream",
     "text": [
      "EPOCH: 2\tEval Loss: 0.0261\tTrain Loss: 0.0268\n"
     ]
    },
    {
     "name": "stderr",
     "output_type": "stream",
     "text": [
      "Training: 100%|██████████| 249/249 [00:58<00:00,  4.25it/s]\n",
      "Eval: 100%|██████████| 63/63 [00:12<00:00,  4.99it/s]\n"
     ]
    },
    {
     "name": "stdout",
     "output_type": "stream",
     "text": [
      "EPOCH: 3\tEval Loss: 0.0249\tTrain Loss: 0.0254\n"
     ]
    },
    {
     "name": "stderr",
     "output_type": "stream",
     "text": [
      "Training: 100%|██████████| 249/249 [00:57<00:00,  4.32it/s]\n",
      "Eval: 100%|██████████| 63/63 [00:12<00:00,  4.90it/s]\n"
     ]
    },
    {
     "name": "stdout",
     "output_type": "stream",
     "text": [
      "EPOCH: 4\tEval Loss: 0.0232\tTrain Loss: 0.0241\n"
     ]
    },
    {
     "name": "stderr",
     "output_type": "stream",
     "text": [
      "Training: 100%|██████████| 249/249 [01:02<00:00,  3.99it/s]\n",
      "Eval: 100%|██████████| 63/63 [00:12<00:00,  5.14it/s]\n"
     ]
    },
    {
     "name": "stdout",
     "output_type": "stream",
     "text": [
      "EPOCH: 5\tEval Loss: 0.0231\tTrain Loss: 0.0233\n"
     ]
    },
    {
     "name": "stderr",
     "output_type": "stream",
     "text": [
      "Training: 100%|██████████| 249/249 [00:54<00:00,  4.57it/s]\n",
      "Eval: 100%|██████████| 63/63 [00:12<00:00,  5.23it/s]\n"
     ]
    },
    {
     "name": "stdout",
     "output_type": "stream",
     "text": [
      "EPOCH: 6\tEval Loss: 0.0245\tTrain Loss: 0.0227\n"
     ]
    },
    {
     "name": "stderr",
     "output_type": "stream",
     "text": [
      "Training: 100%|██████████| 249/249 [00:54<00:00,  4.54it/s]\n",
      "Eval: 100%|██████████| 63/63 [00:12<00:00,  5.22it/s]\n"
     ]
    },
    {
     "name": "stdout",
     "output_type": "stream",
     "text": [
      "EPOCH: 7\tEval Loss: 0.0227\tTrain Loss: 0.0223\n"
     ]
    },
    {
     "name": "stderr",
     "output_type": "stream",
     "text": [
      "Training: 100%|██████████| 249/249 [00:57<00:00,  4.35it/s]\n",
      "Eval: 100%|██████████| 63/63 [00:12<00:00,  5.06it/s]\n"
     ]
    },
    {
     "name": "stdout",
     "output_type": "stream",
     "text": [
      "EPOCH: 8\tEval Loss: 0.0231\tTrain Loss: 0.0215\n"
     ]
    },
    {
     "name": "stderr",
     "output_type": "stream",
     "text": [
      "Training: 100%|██████████| 249/249 [00:59<00:00,  4.18it/s]\n",
      "Eval: 100%|██████████| 63/63 [00:14<00:00,  4.31it/s]\n"
     ]
    },
    {
     "name": "stdout",
     "output_type": "stream",
     "text": [
      "EPOCH: 9\tEval Loss: 0.0225\tTrain Loss: 0.0214\n"
     ]
    },
    {
     "name": "stderr",
     "output_type": "stream",
     "text": [
      "Training: 100%|██████████| 249/249 [01:04<00:00,  3.88it/s]\n",
      "Eval: 100%|██████████| 63/63 [00:12<00:00,  5.12it/s]\n"
     ]
    },
    {
     "name": "stdout",
     "output_type": "stream",
     "text": [
      "EPOCH: 10\tEval Loss: 0.0221\tTrain Loss: 0.0205\n"
     ]
    },
    {
     "name": "stderr",
     "output_type": "stream",
     "text": [
      "Training: 100%|██████████| 249/249 [00:54<00:00,  4.55it/s]\n",
      "Eval: 100%|██████████| 63/63 [00:12<00:00,  5.21it/s]\n"
     ]
    },
    {
     "name": "stdout",
     "output_type": "stream",
     "text": [
      "EPOCH: 11\tEval Loss: 0.0226\tTrain Loss: 0.0201\n"
     ]
    },
    {
     "name": "stderr",
     "output_type": "stream",
     "text": [
      "Training: 100%|██████████| 249/249 [00:55<00:00,  4.52it/s]\n",
      "Eval: 100%|██████████| 63/63 [00:12<00:00,  5.12it/s]\n"
     ]
    },
    {
     "name": "stdout",
     "output_type": "stream",
     "text": [
      "EPOCH: 12\tEval Loss: 0.0240\tTrain Loss: 0.0196\n"
     ]
    },
    {
     "name": "stderr",
     "output_type": "stream",
     "text": [
      "Training: 100%|██████████| 249/249 [00:54<00:00,  4.57it/s]\n",
      "Eval: 100%|██████████| 63/63 [00:12<00:00,  5.16it/s]\n"
     ]
    },
    {
     "name": "stdout",
     "output_type": "stream",
     "text": [
      "EPOCH: 13\tEval Loss: 0.0217\tTrain Loss: 0.0195\n"
     ]
    },
    {
     "name": "stderr",
     "output_type": "stream",
     "text": [
      "Training: 100%|██████████| 249/249 [00:54<00:00,  4.54it/s]\n",
      "Eval: 100%|██████████| 63/63 [00:11<00:00,  5.25it/s]"
     ]
    },
    {
     "name": "stdout",
     "output_type": "stream",
     "text": [
      "EPOCH: 14\tEval Loss: 0.0218\tTrain Loss: 0.0187\n"
     ]
    },
    {
     "name": "stderr",
     "output_type": "stream",
     "text": [
      "\n"
     ]
    }
   ],
   "source": [
    "EPOCH = 15\n",
    "\n",
    "# Model, Loss, Optimizer\n",
    "device = torch.device('cuda' if torch.cuda.is_available() else 'cpu')\n",
    "model = DermaScannerModel().to(device)\n",
    "criterion = nn.CrossEntropyLoss()\n",
    "optimizer = torch.optim.Adam(model.parameters(), lr=0.001)\n",
    "\n",
    "\n",
    "for epoch in range(EPOCH):\n",
    "    model.train()\n",
    "    train_loss = 0\n",
    "    train_total = 0\n",
    "    correct = 0\n",
    "    total = 0\n",
    "    \n",
    "    for images, labels in tqdm(train_loader, desc='Training'):\n",
    "        images, labels = images.to(device), labels.to(device)\n",
    "        outputs = model(images)\n",
    "        loss = criterion(outputs, labels.long())\n",
    "        \n",
    "\n",
    "        optimizer.zero_grad()\n",
    "        loss.backward()\n",
    "        optimizer.step()\n",
    "                \n",
    "        _, predicted = torch.max(outputs, 1)\n",
    "        total += labels.size(0)\n",
    "        correct += (predicted == labels).sum().item()\n",
    "        \n",
    "        batch_size = images.size(0)\n",
    "        train_loss += loss.item()\n",
    "        train_total += batch_size\n",
    "\n",
    "    model.eval()\n",
    "    eval_loss = 0\n",
    "    eval_total = 0\n",
    "    with torch.no_grad():\n",
    "        for images, labels in tqdm(test_loader, desc=\"Eval\"):\n",
    "            images, labels = images.to(device), labels.to(device)\n",
    "            outputs = model(images)\n",
    "            loss = criterion(outputs, labels.long())\n",
    "\n",
    "            batch_size = images.size(0)\n",
    "            eval_loss += loss.item()\n",
    "            eval_total += batch_size\n",
    "\n",
    "    avg_train_loss = train_loss / train_total\n",
    "    avg_eval_loss = eval_loss / eval_total\n",
    "\n",
    "    print(f\"EPOCH: {epoch}\\tEval Loss: {avg_eval_loss:.4f}\\tTrain Loss: {avg_train_loss:.4f}\")\n"
   ],
   "metadata": {
    "collapsed": false,
    "ExecuteTime": {
     "end_time": "2025-04-19T19:45:36.014702Z",
     "start_time": "2025-04-19T19:27:58.671557Z"
    }
   },
   "id": "507fed2fff2cb7d5",
   "execution_count": 22
  },
  {
   "cell_type": "code",
   "outputs": [
    {
     "name": "stdout",
     "output_type": "stream",
     "text": [
      "              precision    recall  f1-score   support\n",
      "\n",
      "         bkl       0.49      0.47      0.48       225\n",
      "          nv       0.83      0.94      0.88      1312\n",
      "          df       0.00      0.00      0.00        31\n",
      "         mel       0.63      0.24      0.35       241\n",
      "        vasc       0.93      0.44      0.60        32\n",
      "         bcc       0.60      0.41      0.49        97\n",
      "       akiec       0.29      0.59      0.39        54\n",
      "\n",
      "    accuracy                           0.74      1992\n",
      "   macro avg       0.54      0.44      0.45      1992\n",
      "weighted avg       0.73      0.74      0.72      1992\n"
     ]
    },
    {
     "name": "stderr",
     "output_type": "stream",
     "text": [
      "/Users/yumengliu/PycharmProjects/DermaDetect/.venv/lib/python3.13/site-packages/sklearn/metrics/_classification.py:1565: UndefinedMetricWarning: Precision is ill-defined and being set to 0.0 in labels with no predicted samples. Use `zero_division` parameter to control this behavior.\n",
      "  _warn_prf(average, modifier, f\"{metric.capitalize()} is\", len(result))\n",
      "/Users/yumengliu/PycharmProjects/DermaDetect/.venv/lib/python3.13/site-packages/sklearn/metrics/_classification.py:1565: UndefinedMetricWarning: Precision is ill-defined and being set to 0.0 in labels with no predicted samples. Use `zero_division` parameter to control this behavior.\n",
      "  _warn_prf(average, modifier, f\"{metric.capitalize()} is\", len(result))\n",
      "/Users/yumengliu/PycharmProjects/DermaDetect/.venv/lib/python3.13/site-packages/sklearn/metrics/_classification.py:1565: UndefinedMetricWarning: Precision is ill-defined and being set to 0.0 in labels with no predicted samples. Use `zero_division` parameter to control this behavior.\n",
      "  _warn_prf(average, modifier, f\"{metric.capitalize()} is\", len(result))\n"
     ]
    }
   ],
   "source": [
    "from sklearn.metrics import classification_report\n",
    "total_output = []\n",
    "total_targets = []\n",
    "model.eval()\n",
    "\n",
    "with torch.no_grad():\n",
    "    for images, labels in test_loader:\n",
    "        outputs = model(images)\n",
    "        _, predicted = torch.max(outputs, 1)\n",
    "        total_output.extend(predicted.numpy())\n",
    "        total_targets.extend(labels.numpy())\n",
    "\n",
    "result = classification_report(total_targets, total_output, target_names=keys)\n",
    "print(result)"
   ],
   "metadata": {
    "collapsed": false,
    "ExecuteTime": {
     "end_time": "2025-04-19T19:45:57.219209Z",
     "start_time": "2025-04-19T19:45:36.016710Z"
    }
   },
   "id": "99b7b6379e71e0f1",
   "execution_count": 23
  },
  {
   "cell_type": "markdown",
   "source": [
    "## Saving Model"
   ],
   "metadata": {
    "collapsed": false
   },
   "id": "b044bd2305b2deaf"
  },
  {
   "cell_type": "code",
   "outputs": [
    {
     "name": "stdout",
     "output_type": "stream",
     "text": [
      "File save successful: True\n"
     ]
    }
   ],
   "source": [
    "save_path = \"../backend/cnn_weights.pth\"\n",
    "torch.save(model.state_dict(), save_path)\n",
    "print(f\"File save successful: {os.path.exists(save_path)}\")"
   ],
   "metadata": {
    "collapsed": false,
    "ExecuteTime": {
     "end_time": "2025-04-19T19:45:57.238573Z",
     "start_time": "2025-04-19T19:45:57.220874Z"
    }
   },
   "id": "4167503f91befa4e",
   "execution_count": 24
  },
  {
   "cell_type": "code",
   "outputs": [],
   "source": [],
   "metadata": {
    "collapsed": false,
    "ExecuteTime": {
     "end_time": "2025-04-19T19:45:57.241328Z",
     "start_time": "2025-04-19T19:45:57.239643Z"
    }
   },
   "id": "3df60c2e4b377970",
   "execution_count": 24
  }
 ],
 "metadata": {
  "kernelspec": {
   "display_name": "Python 3",
   "language": "python",
   "name": "python3"
  },
  "language_info": {
   "codemirror_mode": {
    "name": "ipython",
    "version": 2
   },
   "file_extension": ".py",
   "mimetype": "text/x-python",
   "name": "python",
   "nbconvert_exporter": "python",
   "pygments_lexer": "ipython2",
   "version": "2.7.6"
  }
 },
 "nbformat": 4,
 "nbformat_minor": 5
}
